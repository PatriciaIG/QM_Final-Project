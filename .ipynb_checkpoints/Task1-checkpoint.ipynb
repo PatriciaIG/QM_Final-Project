{
 "cells": [
  {
   "cell_type": "code",
   "execution_count": 2,
   "metadata": {},
   "outputs": [
    {
     "name": "stdout",
     "output_type": "stream",
     "text": [
      "Data frame is 152 x 28\n"
     ]
    }
   ],
   "source": [
    "#Task1\n",
    "import pandas as pd\n",
    "df = pd.read_csv('coursework_1_data_2019.csv')\n",
    "#Data size\n",
    "print(f\"Data frame is {df.shape[0]:,} x {df.shape[1]}\")"
   ]
  },
  {
   "cell_type": "code",
   "execution_count": 3,
   "metadata": {},
   "outputs": [
    {
     "name": "stdout",
     "output_type": "stream",
     "text": [
      "<class 'pandas.core.frame.DataFrame'>\n",
      "RangeIndex: 152 entries, 0 to 151\n",
      "Data columns (total 28 columns):\n",
      " #   Column                Non-Null Count  Dtype \n",
      "---  ------                --------------  ----- \n",
      " 0   local_authority_area  152 non-null    object\n",
      " 1   2008_cases_total      152 non-null    int64 \n",
      " 2   2013_cases_total      152 non-null    int64 \n",
      " 3   2018_cases_total      152 non-null    int64 \n",
      " 4   2008_pop_total        152 non-null    int64 \n",
      " 5   2013_pop_total        152 non-null    int64 \n",
      " 6   2018_pop_total        152 non-null    int64 \n",
      " 7   2008_cases_male       152 non-null    int64 \n",
      " 8   2013_cases_male       152 non-null    int64 \n",
      " 9   2018_cases_male       152 non-null    int64 \n",
      " 10  2008_pop_male         152 non-null    int64 \n",
      " 11  2013_pop_male         152 non-null    int64 \n",
      " 12  2018_pop_male         152 non-null    int64 \n",
      " 13  2008_cases_female     152 non-null    int64 \n",
      " 14  2013_cases_female     152 non-null    int64 \n",
      " 15  2018_cases_female     152 non-null    int64 \n",
      " 16  2008_pop_female       152 non-null    int64 \n",
      " 17  2013_pop_female       152 non-null    int64 \n",
      " 18  2018_pop_female       152 non-null    int64 \n",
      " 19  total_budget          152 non-null    int64 \n",
      " 20  clean_air             152 non-null    int64 \n",
      " 21  clean_environ         152 non-null    int64 \n",
      " 22  health_training       152 non-null    int64 \n",
      " 23  school_awareness      152 non-null    int64 \n",
      " 24  media_awareness       152 non-null    int64 \n",
      " 25  sub_counselling       152 non-null    int64 \n",
      " 26  region                152 non-null    object\n",
      " 27  local_authority_type  152 non-null    object\n",
      "dtypes: int64(25), object(3)\n",
      "memory usage: 33.4+ KB\n"
     ]
    }
   ],
   "source": [
    "#Verifying columns\n",
    "df.info()"
   ]
  },
  {
   "cell_type": "code",
   "execution_count": 4,
   "metadata": {},
   "outputs": [
    {
     "data": {
      "text/plain": [
       "London                      33\n",
       "North West                  23\n",
       "South East                  19\n",
       "South West                  16\n",
       "Yorkshire and the Humber    15\n",
       "West Midlands               14\n",
       "North East                  12\n",
       "East of England             11\n",
       "East Midlands                9\n",
       "Name: region, dtype: int64"
      ]
     },
     "execution_count": 4,
     "metadata": {},
     "output_type": "execute_result"
    }
   ],
   "source": [
    "#Summary of categories\n",
    "cat=['local_authority_area','region','local_authority_type']\n",
    "#By region\n",
    "df[cat[1]].value_counts()"
   ]
  },
  {
   "cell_type": "code",
   "execution_count": 5,
   "metadata": {},
   "outputs": [
    {
     "data": {
      "text/plain": [
       "unitary_authority          56\n",
       "metropolitan_borough       36\n",
       "london_borough             32\n",
       "non_metropolitan_county    27\n",
       "other_london                1\n",
       "Name: local_authority_type, dtype: int64"
      ]
     },
     "execution_count": 5,
     "metadata": {},
     "output_type": "execute_result"
    }
   ],
   "source": [
    "#By type of local authority\n",
    "df[cat[2]].value_counts()"
   ]
  },
  {
   "cell_type": "code",
   "execution_count": 6,
   "metadata": {},
   "outputs": [
    {
     "name": "stdout",
     "output_type": "stream",
     "text": [
      "Anual investment per citizen in 2008\n",
      "Anual investment per citizen in 2013\n",
      "Anual investment per citizen in 2018\n"
     ]
    }
   ],
   "source": [
    "#Anual Investment per citizen\n",
    "#Anual budget/population_year\n",
    "\n",
    "inv_per_ciz=['inv_per_ciz_2008','inv_per_ciz_2013','inv_per_ciz_2018']\n",
    "for b in inv_per_ciz:\n",
    "    df[b]=df['total_budget']/df[f\"{b[-4:]}_pop_total\"]\n",
    "    print(f\"Anual investment per citizen in {b[-4:]}\")"
   ]
  },
  {
   "cell_type": "code",
   "execution_count": 7,
   "metadata": {},
   "outputs": [
    {
     "data": {
      "text/html": [
       "<div>\n",
       "<style scoped>\n",
       "    .dataframe tbody tr th:only-of-type {\n",
       "        vertical-align: middle;\n",
       "    }\n",
       "\n",
       "    .dataframe tbody tr th {\n",
       "        vertical-align: top;\n",
       "    }\n",
       "\n",
       "    .dataframe thead th {\n",
       "        text-align: right;\n",
       "    }\n",
       "</style>\n",
       "<table border=\"1\" class=\"dataframe\">\n",
       "  <thead>\n",
       "    <tr style=\"text-align: right;\">\n",
       "      <th></th>\n",
       "      <th>inv_per_ciz_2008</th>\n",
       "      <th>inv_per_ciz_2013</th>\n",
       "      <th>inv_per_ciz_2018</th>\n",
       "    </tr>\n",
       "  </thead>\n",
       "  <tbody>\n",
       "    <tr>\n",
       "      <th>18</th>\n",
       "      <td>0.771107</td>\n",
       "      <td>0.731434</td>\n",
       "      <td>0.726201</td>\n",
       "    </tr>\n",
       "    <tr>\n",
       "      <th>100</th>\n",
       "      <td>0.752950</td>\n",
       "      <td>0.752746</td>\n",
       "      <td>0.728202</td>\n",
       "    </tr>\n",
       "    <tr>\n",
       "      <th>6</th>\n",
       "      <td>0.809754</td>\n",
       "      <td>0.767179</td>\n",
       "      <td>0.764867</td>\n",
       "    </tr>\n",
       "    <tr>\n",
       "      <th>54</th>\n",
       "      <td>0.665421</td>\n",
       "      <td>0.648775</td>\n",
       "      <td>0.584027</td>\n",
       "    </tr>\n",
       "    <tr>\n",
       "      <th>113</th>\n",
       "      <td>0.831723</td>\n",
       "      <td>0.803500</td>\n",
       "      <td>0.751756</td>\n",
       "    </tr>\n",
       "  </tbody>\n",
       "</table>\n",
       "</div>"
      ],
      "text/plain": [
       "     inv_per_ciz_2008  inv_per_ciz_2013  inv_per_ciz_2018\n",
       "18           0.771107          0.731434          0.726201\n",
       "100          0.752950          0.752746          0.728202\n",
       "6            0.809754          0.767179          0.764867\n",
       "54           0.665421          0.648775          0.584027\n",
       "113          0.831723          0.803500          0.751756"
      ]
     },
     "execution_count": 7,
     "metadata": {},
     "output_type": "execute_result"
    }
   ],
   "source": [
    "#Sample Anual Investment per citizen\n",
    "df.sample(5,random_state=14)[inv_per_ciz]"
   ]
  },
  {
   "cell_type": "code",
   "execution_count": 8,
   "metadata": {},
   "outputs": [
    {
     "name": "stdout",
     "output_type": "stream",
     "text": [
      "Anual investment per obese child in 2008\n",
      "Anual investment per obese child in 2013\n",
      "Anual investment per obese child in 2018\n"
     ]
    }
   ],
   "source": [
    "#Anual Investment per obese child\n",
    "#Anual budget/chilhood obesity cases\n",
    "inv_per_oc=['inv_per_oc_2008','inv_per_oc_2013','inv_per_oc_2018']\n",
    "for b in inv_per_oc:\n",
    "    df[b]=df['total_budget']/df[f\"{b[-4:]}_cases_total\"]\n",
    "    print(f\"Anual investment per obese child in {b[-4:]}\")"
   ]
  },
  {
   "cell_type": "code",
   "execution_count": 9,
   "metadata": {},
   "outputs": [
    {
     "data": {
      "text/html": [
       "<div>\n",
       "<style scoped>\n",
       "    .dataframe tbody tr th:only-of-type {\n",
       "        vertical-align: middle;\n",
       "    }\n",
       "\n",
       "    .dataframe tbody tr th {\n",
       "        vertical-align: top;\n",
       "    }\n",
       "\n",
       "    .dataframe thead th {\n",
       "        text-align: right;\n",
       "    }\n",
       "</style>\n",
       "<table border=\"1\" class=\"dataframe\">\n",
       "  <thead>\n",
       "    <tr style=\"text-align: right;\">\n",
       "      <th></th>\n",
       "      <th>inv_per_oc_2008</th>\n",
       "      <th>inv_per_oc_2013</th>\n",
       "      <th>inv_per_oc_2018</th>\n",
       "    </tr>\n",
       "  </thead>\n",
       "  <tbody>\n",
       "    <tr>\n",
       "      <th>18</th>\n",
       "      <td>298.097252</td>\n",
       "      <td>290.123457</td>\n",
       "      <td>242.268041</td>\n",
       "    </tr>\n",
       "    <tr>\n",
       "      <th>100</th>\n",
       "      <td>347.826087</td>\n",
       "      <td>343.642612</td>\n",
       "      <td>258.397933</td>\n",
       "    </tr>\n",
       "    <tr>\n",
       "      <th>6</th>\n",
       "      <td>259.120674</td>\n",
       "      <td>229.494615</td>\n",
       "      <td>211.611917</td>\n",
       "    </tr>\n",
       "    <tr>\n",
       "      <th>54</th>\n",
       "      <td>295.566502</td>\n",
       "      <td>290.556901</td>\n",
       "      <td>239.043825</td>\n",
       "    </tr>\n",
       "    <tr>\n",
       "      <th>113</th>\n",
       "      <td>267.031630</td>\n",
       "      <td>240.811849</td>\n",
       "      <td>227.815257</td>\n",
       "    </tr>\n",
       "  </tbody>\n",
       "</table>\n",
       "</div>"
      ],
      "text/plain": [
       "     inv_per_oc_2008  inv_per_oc_2013  inv_per_oc_2018\n",
       "18        298.097252       290.123457       242.268041\n",
       "100       347.826087       343.642612       258.397933\n",
       "6         259.120674       229.494615       211.611917\n",
       "54        295.566502       290.556901       239.043825\n",
       "113       267.031630       240.811849       227.815257"
      ]
     },
     "execution_count": 9,
     "metadata": {},
     "output_type": "execute_result"
    }
   ],
   "source": [
    "#Sample Anual Investment per obese child\n",
    "df.sample(5,random_state=14)[inv_per_oc]"
   ]
  },
  {
   "cell_type": "code",
   "execution_count": 10,
   "metadata": {},
   "outputs": [
    {
     "name": "stdout",
     "output_type": "stream",
     "text": [
      "Ratio of obese child per citizen in 2008\n",
      "Ratio of obese child per citizen in 2013\n",
      "Ratio of obese child per citizen in 2018\n"
     ]
    }
   ],
   "source": [
    "#Ratio childhood obesity cases per hundred citizens %\n",
    "#Childhood obesity cases/ hundred population \n",
    "ratio_child_cit=['ratio_child_cit_2008','ratio_child_cit_2013','ratio_child_cit_2018']\n",
    "for b in ratio_child_cit:\n",
    "    df[b]=df[f\"{b[-4:]}_cases_total\"]/df[f\"{b[-4:]}_pop_total\"]*100\n",
    "    print(f\"Ratio of obese child per citizen in {b[-4:]}\")"
   ]
  },
  {
   "cell_type": "code",
   "execution_count": 11,
   "metadata": {},
   "outputs": [
    {
     "data": {
      "text/html": [
       "<div>\n",
       "<style scoped>\n",
       "    .dataframe tbody tr th:only-of-type {\n",
       "        vertical-align: middle;\n",
       "    }\n",
       "\n",
       "    .dataframe tbody tr th {\n",
       "        vertical-align: top;\n",
       "    }\n",
       "\n",
       "    .dataframe thead th {\n",
       "        text-align: right;\n",
       "    }\n",
       "</style>\n",
       "<table border=\"1\" class=\"dataframe\">\n",
       "  <thead>\n",
       "    <tr style=\"text-align: right;\">\n",
       "      <th></th>\n",
       "      <th>ratio_child_cit_2008</th>\n",
       "      <th>ratio_child_cit_2013</th>\n",
       "      <th>ratio_child_cit_2018</th>\n",
       "    </tr>\n",
       "  </thead>\n",
       "  <tbody>\n",
       "    <tr>\n",
       "      <th>18</th>\n",
       "      <td>0.258676</td>\n",
       "      <td>0.252111</td>\n",
       "      <td>0.299751</td>\n",
       "    </tr>\n",
       "    <tr>\n",
       "      <th>100</th>\n",
       "      <td>0.216473</td>\n",
       "      <td>0.219049</td>\n",
       "      <td>0.281814</td>\n",
       "    </tr>\n",
       "    <tr>\n",
       "      <th>6</th>\n",
       "      <td>0.312501</td>\n",
       "      <td>0.334291</td>\n",
       "      <td>0.361448</td>\n",
       "    </tr>\n",
       "    <tr>\n",
       "      <th>54</th>\n",
       "      <td>0.225134</td>\n",
       "      <td>0.223287</td>\n",
       "      <td>0.244318</td>\n",
       "    </tr>\n",
       "    <tr>\n",
       "      <th>113</th>\n",
       "      <td>0.311470</td>\n",
       "      <td>0.333663</td>\n",
       "      <td>0.329985</td>\n",
       "    </tr>\n",
       "  </tbody>\n",
       "</table>\n",
       "</div>"
      ],
      "text/plain": [
       "     ratio_child_cit_2008  ratio_child_cit_2013  ratio_child_cit_2018\n",
       "18               0.258676              0.252111              0.299751\n",
       "100              0.216473              0.219049              0.281814\n",
       "6                0.312501              0.334291              0.361448\n",
       "54               0.225134              0.223287              0.244318\n",
       "113              0.311470              0.333663              0.329985"
      ]
     },
     "execution_count": 11,
     "metadata": {},
     "output_type": "execute_result"
    }
   ],
   "source": [
    "#Sample Ratio childhood obesity cases per citizen %\n",
    "df.sample(5,random_state=14)[ratio_child_cit]"
   ]
  },
  {
   "cell_type": "code",
   "execution_count": 12,
   "metadata": {},
   "outputs": [
    {
     "name": "stdout",
     "output_type": "stream",
     "text": [
      "Ratio of obese girl per women in 2008\n",
      "Ratio of obese girl per women in 2013\n",
      "Ratio of obese girl per women in 2018\n"
     ]
    }
   ],
   "source": [
    "#Porcentaje girl childhood obesity cases per hundred women %\n",
    "#girl Childhood obesity cases/a hundred women \n",
    "ratio_gchild_wom=['ratio_gchild_wom_2008','ratio_gchild_wom_2013','ratio_gchild_wom_2018']\n",
    "for b in ratio_gchild_wom:\n",
    "    df[b]=df[f\"{b[-4:]}_cases_female\"]/df[f\"{b[-4:]}_pop_female\"]*100\n",
    "    print(f\"Ratio of obese girl per women in {b[-4:]}\")"
   ]
  },
  {
   "cell_type": "code",
   "execution_count": 13,
   "metadata": {},
   "outputs": [
    {
     "data": {
      "text/html": [
       "<div>\n",
       "<style scoped>\n",
       "    .dataframe tbody tr th:only-of-type {\n",
       "        vertical-align: middle;\n",
       "    }\n",
       "\n",
       "    .dataframe tbody tr th {\n",
       "        vertical-align: top;\n",
       "    }\n",
       "\n",
       "    .dataframe thead th {\n",
       "        text-align: right;\n",
       "    }\n",
       "</style>\n",
       "<table border=\"1\" class=\"dataframe\">\n",
       "  <thead>\n",
       "    <tr style=\"text-align: right;\">\n",
       "      <th></th>\n",
       "      <th>ratio_gchild_wom_2008</th>\n",
       "      <th>ratio_gchild_wom_2013</th>\n",
       "      <th>ratio_gchild_wom_2018</th>\n",
       "    </tr>\n",
       "  </thead>\n",
       "  <tbody>\n",
       "    <tr>\n",
       "      <th>18</th>\n",
       "      <td>0.305679</td>\n",
       "      <td>0.280131</td>\n",
       "      <td>0.335414</td>\n",
       "    </tr>\n",
       "    <tr>\n",
       "      <th>100</th>\n",
       "      <td>0.274645</td>\n",
       "      <td>0.272273</td>\n",
       "      <td>0.340731</td>\n",
       "    </tr>\n",
       "    <tr>\n",
       "      <th>6</th>\n",
       "      <td>0.450250</td>\n",
       "      <td>0.464998</td>\n",
       "      <td>0.495127</td>\n",
       "    </tr>\n",
       "    <tr>\n",
       "      <th>54</th>\n",
       "      <td>0.312146</td>\n",
       "      <td>0.309766</td>\n",
       "      <td>0.336291</td>\n",
       "    </tr>\n",
       "    <tr>\n",
       "      <th>113</th>\n",
       "      <td>0.428498</td>\n",
       "      <td>0.454845</td>\n",
       "      <td>0.478884</td>\n",
       "    </tr>\n",
       "  </tbody>\n",
       "</table>\n",
       "</div>"
      ],
      "text/plain": [
       "     ratio_gchild_wom_2008  ratio_gchild_wom_2013  ratio_gchild_wom_2018\n",
       "18                0.305679               0.280131               0.335414\n",
       "100               0.274645               0.272273               0.340731\n",
       "6                 0.450250               0.464998               0.495127\n",
       "54                0.312146               0.309766               0.336291\n",
       "113               0.428498               0.454845               0.478884"
      ]
     },
     "execution_count": 13,
     "metadata": {},
     "output_type": "execute_result"
    }
   ],
   "source": [
    "#Sample Ratio girl childhood obesity cases per women %\n",
    "df.sample(5,random_state=14)[ratio_gchild_wom]"
   ]
  },
  {
   "cell_type": "code",
   "execution_count": 14,
   "metadata": {},
   "outputs": [
    {
     "name": "stdout",
     "output_type": "stream",
     "text": [
      "Ratio of obese boy per men in 2008\n",
      "Ratio of obese boy per men in 2013\n",
      "Ratio of obese boy per men in 2018\n"
     ]
    }
   ],
   "source": [
    "#Porcentaje boy childhood obesity cases per hundred men %\n",
    "#boy Childhood obesity cases/a hundred men \n",
    "ratio_bchild_men=['ratio_bchild_men_2008','ratio_bchild_men_2013','ratio_bchild_men_2018']\n",
    "for b in ratio_bchild_men:\n",
    "    df[b]=df[f\"{b[-4:]}_cases_male\"]/df[f\"{b[-4:]}_pop_male\"]*100\n",
    "    print(f\"Ratio of obese boy per men in {b[-4:]}\")"
   ]
  },
  {
   "cell_type": "code",
   "execution_count": 15,
   "metadata": {},
   "outputs": [
    {
     "data": {
      "text/html": [
       "<div>\n",
       "<style scoped>\n",
       "    .dataframe tbody tr th:only-of-type {\n",
       "        vertical-align: middle;\n",
       "    }\n",
       "\n",
       "    .dataframe tbody tr th {\n",
       "        vertical-align: top;\n",
       "    }\n",
       "\n",
       "    .dataframe thead th {\n",
       "        text-align: right;\n",
       "    }\n",
       "</style>\n",
       "<table border=\"1\" class=\"dataframe\">\n",
       "  <thead>\n",
       "    <tr style=\"text-align: right;\">\n",
       "      <th></th>\n",
       "      <th>ratio_bchild_men_2008</th>\n",
       "      <th>ratio_bchild_men_2013</th>\n",
       "      <th>ratio_bchild_men_2018</th>\n",
       "    </tr>\n",
       "  </thead>\n",
       "  <tbody>\n",
       "    <tr>\n",
       "      <th>18</th>\n",
       "      <td>0.210126</td>\n",
       "      <td>0.221258</td>\n",
       "      <td>0.261270</td>\n",
       "    </tr>\n",
       "    <tr>\n",
       "      <th>100</th>\n",
       "      <td>0.157904</td>\n",
       "      <td>0.164244</td>\n",
       "      <td>0.210638</td>\n",
       "    </tr>\n",
       "    <tr>\n",
       "      <th>6</th>\n",
       "      <td>0.167571</td>\n",
       "      <td>0.170936</td>\n",
       "      <td>0.185483</td>\n",
       "    </tr>\n",
       "    <tr>\n",
       "      <th>54</th>\n",
       "      <td>0.133330</td>\n",
       "      <td>0.134034</td>\n",
       "      <td>0.163116</td>\n",
       "    </tr>\n",
       "    <tr>\n",
       "      <th>113</th>\n",
       "      <td>0.187153</td>\n",
       "      <td>0.199870</td>\n",
       "      <td>0.192801</td>\n",
       "    </tr>\n",
       "  </tbody>\n",
       "</table>\n",
       "</div>"
      ],
      "text/plain": [
       "     ratio_bchild_men_2008  ratio_bchild_men_2013  ratio_bchild_men_2018\n",
       "18                0.210126               0.221258               0.261270\n",
       "100               0.157904               0.164244               0.210638\n",
       "6                 0.167571               0.170936               0.185483\n",
       "54                0.133330               0.134034               0.163116\n",
       "113               0.187153               0.199870               0.192801"
      ]
     },
     "execution_count": 15,
     "metadata": {},
     "output_type": "execute_result"
    }
   ],
   "source": [
    "#Sample Ratio boy childhood obesity cases per men %\n",
    "df.sample(5,random_state=14)[ratio_bchild_men]"
   ]
  },
  {
   "cell_type": "code",
   "execution_count": 16,
   "metadata": {},
   "outputs": [],
   "source": [
    "#Variation of the rate of childhood obesity between 2008-2018\n",
    "df['rate_var']=df['ratio_child_cit_2018']-df['ratio_child_cit_2008']\n"
   ]
  },
  {
   "cell_type": "code",
   "execution_count": 17,
   "metadata": {},
   "outputs": [
    {
     "data": {
      "text/html": [
       "<div>\n",
       "<style scoped>\n",
       "    .dataframe tbody tr th:only-of-type {\n",
       "        vertical-align: middle;\n",
       "    }\n",
       "\n",
       "    .dataframe tbody tr th {\n",
       "        vertical-align: top;\n",
       "    }\n",
       "\n",
       "    .dataframe thead th {\n",
       "        text-align: right;\n",
       "    }\n",
       "</style>\n",
       "<table border=\"1\" class=\"dataframe\">\n",
       "  <thead>\n",
       "    <tr style=\"text-align: right;\">\n",
       "      <th></th>\n",
       "      <th>local_authority_area</th>\n",
       "      <th>rate_var</th>\n",
       "    </tr>\n",
       "  </thead>\n",
       "  <tbody>\n",
       "    <tr>\n",
       "      <th>18</th>\n",
       "      <td>Bury</td>\n",
       "      <td>0.041075</td>\n",
       "    </tr>\n",
       "    <tr>\n",
       "      <th>100</th>\n",
       "      <td>Redbridge</td>\n",
       "      <td>0.065341</td>\n",
       "    </tr>\n",
       "    <tr>\n",
       "      <th>6</th>\n",
       "      <td>Birmingham</td>\n",
       "      <td>0.048948</td>\n",
       "    </tr>\n",
       "    <tr>\n",
       "      <th>54</th>\n",
       "      <td>Herefordshire</td>\n",
       "      <td>0.019184</td>\n",
       "    </tr>\n",
       "    <tr>\n",
       "      <th>113</th>\n",
       "      <td>Somerset</td>\n",
       "      <td>0.018515</td>\n",
       "    </tr>\n",
       "  </tbody>\n",
       "</table>\n",
       "</div>"
      ],
      "text/plain": [
       "    local_authority_area  rate_var\n",
       "18                  Bury  0.041075\n",
       "100            Redbridge  0.065341\n",
       "6             Birmingham  0.048948\n",
       "54         Herefordshire  0.019184\n",
       "113             Somerset  0.018515"
      ]
     },
     "execution_count": 17,
     "metadata": {},
     "output_type": "execute_result"
    }
   ],
   "source": [
    "df.sample(5,random_state=14)[['local_authority_area','rate_var']]"
   ]
  },
  {
   "cell_type": "code",
   "execution_count": 18,
   "metadata": {},
   "outputs": [],
   "source": [
    "#Variation of the funds/cit between 2008-2018\n",
    "df['fund_var']=df['inv_per_ciz_2018']-df['inv_per_ciz_2008']\n"
   ]
  },
  {
   "cell_type": "code",
   "execution_count": 19,
   "metadata": {},
   "outputs": [],
   "source": [
    "#Variation of the clean air funds/cit between 2008-2018\n",
    "df['clean_var']=df['clean_air']/df['2018_pop_total']-df['clean_air']/df['2008_pop_total']"
   ]
  },
  {
   "cell_type": "code",
   "execution_count": 20,
   "metadata": {},
   "outputs": [],
   "source": [
    "#Variation of the clean env funds/cit between 2008-2018\n",
    "df['env_var']=df['clean_environ']/df['2018_pop_total']-df['clean_environ']/df['2008_pop_total']"
   ]
  },
  {
   "cell_type": "code",
   "execution_count": 21,
   "metadata": {},
   "outputs": [],
   "source": [
    "#Variation of the health training funds/cit between 2008-2018\n",
    "df['health_var']=df['health_training']/df['2018_pop_total']-df['health_training']/df['2008_pop_total']"
   ]
  },
  {
   "cell_type": "code",
   "execution_count": 22,
   "metadata": {},
   "outputs": [],
   "source": [
    "#Variation of the school awareness funds/cit between 2008-2018\n",
    "df['school_var']=df['school_awareness']/df['2018_pop_total']-df['school_awareness']/df['2008_pop_total']"
   ]
  },
  {
   "cell_type": "code",
   "execution_count": 34,
   "metadata": {},
   "outputs": [],
   "source": [
    "#Variation of the media awareness funds/cit between 2008-2018\n",
    "df['media_var']=df['media_awareness']/df['2018_pop_total']-df['media_awareness']/df['2008_pop_total']"
   ]
  },
  {
   "cell_type": "code",
   "execution_count": 35,
   "metadata": {},
   "outputs": [],
   "source": [
    "#Variation of the media awareness funds/cit between 2008-2018\n",
    "df['sub_var']=df['sub_counselling']/df['2018_pop_total']-df['sub_counselling']/df['2008_pop_total']"
   ]
  },
  {
   "cell_type": "code",
   "execution_count": 36,
   "metadata": {},
   "outputs": [
    {
     "data": {
      "text/plain": [
       "['local_authority_area',\n",
       " '2008_cases_total',\n",
       " '2013_cases_total',\n",
       " '2018_cases_total',\n",
       " '2008_pop_total',\n",
       " '2013_pop_total',\n",
       " '2018_pop_total',\n",
       " '2008_cases_male',\n",
       " '2013_cases_male',\n",
       " '2018_cases_male',\n",
       " '2008_pop_male',\n",
       " '2013_pop_male',\n",
       " '2018_pop_male',\n",
       " '2008_cases_female',\n",
       " '2013_cases_female',\n",
       " '2018_cases_female',\n",
       " '2008_pop_female',\n",
       " '2013_pop_female',\n",
       " '2018_pop_female',\n",
       " 'total_budget',\n",
       " 'clean_air',\n",
       " 'clean_environ',\n",
       " 'health_training',\n",
       " 'school_awareness',\n",
       " 'media_awareness',\n",
       " 'sub_counselling',\n",
       " 'region',\n",
       " 'local_authority_type',\n",
       " 'inv_per_ciz_2008',\n",
       " 'inv_per_ciz_2013',\n",
       " 'inv_per_ciz_2018',\n",
       " 'inv_per_oc_2008',\n",
       " 'inv_per_oc_2013',\n",
       " 'inv_per_oc_2018',\n",
       " 'ratio_child_cit_2008',\n",
       " 'ratio_child_cit_2013',\n",
       " 'ratio_child_cit_2018',\n",
       " 'ratio_gchild_wom_2008',\n",
       " 'ratio_gchild_wom_2013',\n",
       " 'ratio_gchild_wom_2018',\n",
       " 'ratio_bchild_men_2008',\n",
       " 'ratio_bchild_men_2013',\n",
       " 'ratio_bchild_men_2018',\n",
       " 'rate_var',\n",
       " 'fund_var',\n",
       " 'clean_var',\n",
       " 'env_var',\n",
       " 'health_var',\n",
       " 'school_var',\n",
       " 'sub_var',\n",
       " 'media_var']"
      ]
     },
     "execution_count": 36,
     "metadata": {},
     "output_type": "execute_result"
    }
   ],
   "source": [
    "list(df.columns.values)"
   ]
  },
  {
   "cell_type": "code",
   "execution_count": 37,
   "metadata": {},
   "outputs": [],
   "source": [
    "df_mult=df.drop(columns=['2008_cases_total',\n",
    " '2013_cases_total',\n",
    " '2018_cases_total',\n",
    " '2008_pop_total',\n",
    " '2013_pop_total',\n",
    " '2018_pop_total',\n",
    " '2008_cases_male',\n",
    " '2013_cases_male',\n",
    " '2018_cases_male',\n",
    " '2008_pop_male',\n",
    " '2013_pop_male',\n",
    " '2018_pop_male',\n",
    " '2008_cases_female',\n",
    " '2013_cases_female',\n",
    " '2018_cases_female',\n",
    " '2008_pop_female',\n",
    " '2013_pop_female',\n",
    " '2018_pop_female',\n",
    " 'total_budget',\n",
    " 'clean_air',\n",
    " 'clean_environ',\n",
    " 'health_training',\n",
    " 'school_awareness',\n",
    " 'media_awareness',\n",
    " 'sub_counselling',\n",
    " 'region',\n",
    " 'local_authority_type',\n",
    " 'inv_per_ciz_2008',\n",
    " 'inv_per_ciz_2013',\n",
    " 'inv_per_ciz_2018',\n",
    " 'inv_per_oc_2008',\n",
    " 'inv_per_oc_2013',\n",
    " 'inv_per_oc_2018',\n",
    " 'ratio_child_cit_2008',\n",
    " 'ratio_child_cit_2013',\n",
    " 'ratio_child_cit_2018',\n",
    " 'ratio_gchild_wom_2008',\n",
    " 'ratio_gchild_wom_2013',\n",
    " 'ratio_gchild_wom_2018',\n",
    " 'ratio_bchild_men_2008',\n",
    " 'ratio_bchild_men_2013',\n",
    " 'ratio_bchild_men_2018'])"
   ]
  },
  {
   "cell_type": "code",
   "execution_count": 38,
   "metadata": {},
   "outputs": [
    {
     "data": {
      "text/html": [
       "<div>\n",
       "<style scoped>\n",
       "    .dataframe tbody tr th:only-of-type {\n",
       "        vertical-align: middle;\n",
       "    }\n",
       "\n",
       "    .dataframe tbody tr th {\n",
       "        vertical-align: top;\n",
       "    }\n",
       "\n",
       "    .dataframe thead th {\n",
       "        text-align: right;\n",
       "    }\n",
       "</style>\n",
       "<table border=\"1\" class=\"dataframe\">\n",
       "  <thead>\n",
       "    <tr style=\"text-align: right;\">\n",
       "      <th></th>\n",
       "      <th>local_authority_area</th>\n",
       "      <th>rate_var</th>\n",
       "      <th>fund_var</th>\n",
       "      <th>clean_var</th>\n",
       "      <th>env_var</th>\n",
       "      <th>health_var</th>\n",
       "      <th>school_var</th>\n",
       "      <th>sub_var</th>\n",
       "      <th>media_var</th>\n",
       "    </tr>\n",
       "  </thead>\n",
       "  <tbody>\n",
       "    <tr>\n",
       "      <th>0</th>\n",
       "      <td>Barking and Dagenham</td>\n",
       "      <td>0.076339</td>\n",
       "      <td>-0.040274</td>\n",
       "      <td>-0.006085</td>\n",
       "      <td>-0.006374</td>\n",
       "      <td>-0.005215</td>\n",
       "      <td>-0.011879</td>\n",
       "      <td>-0.005505</td>\n",
       "      <td>-0.005215</td>\n",
       "    </tr>\n",
       "    <tr>\n",
       "      <th>1</th>\n",
       "      <td>Barnet</td>\n",
       "      <td>0.058835</td>\n",
       "      <td>-0.028176</td>\n",
       "      <td>-0.006404</td>\n",
       "      <td>-0.002177</td>\n",
       "      <td>-0.002946</td>\n",
       "      <td>-0.009478</td>\n",
       "      <td>-0.003330</td>\n",
       "      <td>-0.003842</td>\n",
       "    </tr>\n",
       "    <tr>\n",
       "      <th>2</th>\n",
       "      <td>Barnsley</td>\n",
       "      <td>0.045595</td>\n",
       "      <td>-0.085171</td>\n",
       "      <td>-0.021825</td>\n",
       "      <td>-0.023954</td>\n",
       "      <td>-0.002662</td>\n",
       "      <td>-0.013840</td>\n",
       "      <td>-0.007452</td>\n",
       "      <td>-0.015437</td>\n",
       "    </tr>\n",
       "    <tr>\n",
       "      <th>3</th>\n",
       "      <td>Bath and North East Somerset</td>\n",
       "      <td>0.005631</td>\n",
       "      <td>-0.050980</td>\n",
       "      <td>-0.010449</td>\n",
       "      <td>-0.013299</td>\n",
       "      <td>-0.006016</td>\n",
       "      <td>-0.015832</td>\n",
       "      <td>-0.002217</td>\n",
       "      <td>-0.003166</td>\n",
       "    </tr>\n",
       "    <tr>\n",
       "      <th>4</th>\n",
       "      <td>Bedford</td>\n",
       "      <td>0.018691</td>\n",
       "      <td>-0.059194</td>\n",
       "      <td>-0.016847</td>\n",
       "      <td>-0.023677</td>\n",
       "      <td>-0.007741</td>\n",
       "      <td>-0.003643</td>\n",
       "      <td>-0.005919</td>\n",
       "      <td>-0.001366</td>\n",
       "    </tr>\n",
       "  </tbody>\n",
       "</table>\n",
       "</div>"
      ],
      "text/plain": [
       "           local_authority_area  rate_var  fund_var  clean_var   env_var  \\\n",
       "0          Barking and Dagenham  0.076339 -0.040274  -0.006085 -0.006374   \n",
       "1                        Barnet  0.058835 -0.028176  -0.006404 -0.002177   \n",
       "2                      Barnsley  0.045595 -0.085171  -0.021825 -0.023954   \n",
       "3  Bath and North East Somerset  0.005631 -0.050980  -0.010449 -0.013299   \n",
       "4                       Bedford  0.018691 -0.059194  -0.016847 -0.023677   \n",
       "\n",
       "   health_var  school_var   sub_var  media_var  \n",
       "0   -0.005215   -0.011879 -0.005505  -0.005215  \n",
       "1   -0.002946   -0.009478 -0.003330  -0.003842  \n",
       "2   -0.002662   -0.013840 -0.007452  -0.015437  \n",
       "3   -0.006016   -0.015832 -0.002217  -0.003166  \n",
       "4   -0.007741   -0.003643 -0.005919  -0.001366  "
      ]
     },
     "execution_count": 38,
     "metadata": {},
     "output_type": "execute_result"
    }
   ],
   "source": [
    "df_mult.head()"
   ]
  },
  {
   "cell_type": "code",
   "execution_count": 39,
   "metadata": {},
   "outputs": [
    {
     "data": {
      "text/plain": [
       "<AxesSubplot:xlabel='rate_var', ylabel='fund_var'>"
      ]
     },
     "execution_count": 39,
     "metadata": {},
     "output_type": "execute_result"
    },
    {
     "data": {
      "image/png": "[encoded data removed]",
      "text/plain": [
       "<Figure size 432x288 with 1 Axes>"
      ]
     },
     "metadata": {
      "needs_background": "light"
     },
     "output_type": "display_data"
    }
   ],
   "source": [
    "df_mult.plot(x='rate_var',y='fund_var',kind='scatter')"
   ]
  },
  {
   "cell_type": "code",
   "execution_count": 40,
   "metadata": {},
   "outputs": [
    {
     "data": {
      "text/plain": [
       "<AxesSubplot:xlabel='rate_var', ylabel='clean_var'>"
      ]
     },
     "execution_count": 40,
     "metadata": {},
     "output_type": "execute_result"
    },
    {
     "data": {
      "image/png": "[encoded data removed]",
      "text/plain": [
       "<Figure size 432x288 with 1 Axes>"
      ]
     },
     "metadata": {
      "needs_background": "light"
     },
     "output_type": "display_data"
    }
   ],
   "source": [
    "df_mult.plot(x='rate_var',y='clean_var',kind='scatter')"
   ]
  },
  {
   "cell_type": "code",
   "execution_count": 41,
   "metadata": {},
   "outputs": [
    {
     "data": {
      "text/plain": [
       "<AxesSubplot:xlabel='rate_var', ylabel='env_var'>"
      ]
     },
     "execution_count": 41,
     "metadata": {},
     "output_type": "execute_result"
    },
    {
     "data": {
      "image/png": "[encoded data removed]",
      "text/plain": [
       "<Figure size 432x288 with 1 Axes>"
      ]
     },
     "metadata": {
      "needs_background": "light"
     },
     "output_type": "display_data"
    }
   ],
   "source": [
    "df_mult.plot(x='rate_var',y='env_var',kind='scatter')"
   ]
  },
  {
   "cell_type": "code",
   "execution_count": 42,
   "metadata": {},
   "outputs": [
    {
     "data": {
      "text/plain": [
       "<AxesSubplot:xlabel='rate_var', ylabel='health_var'>"
      ]
     },
     "execution_count": 42,
     "metadata": {},
     "output_type": "execute_result"
    },
    {
     "data": {
      "image/png": "[encoded data removed]",
      "text/plain": [
       "<Figure size 432x288 with 1 Axes>"
      ]
     },
     "metadata": {
      "needs_background": "light"
     },
     "output_type": "display_data"
    }
   ],
   "source": [
    "df_mult.plot(x='rate_var',y='health_var',kind='scatter')"
   ]
  },
  {
   "cell_type": "code",
   "execution_count": 43,
   "metadata": {},
   "outputs": [
    {
     "data": {
      "text/plain": [
       "<AxesSubplot:xlabel='rate_var', ylabel='sub_var'>"
      ]
     },
     "execution_count": 43,
     "metadata": {},
     "output_type": "execute_result"
    },
    {
     "data": {
      "image/png": "[encoded data removed]",
      "text/plain": [
       "<Figure size 432x288 with 1 Axes>"
      ]
     },
     "metadata": {
      "needs_background": "light"
     },
     "output_type": "display_data"
    }
   ],
   "source": [
    "df_mult.plot(x='rate_var',y='sub_var',kind='scatter')"
   ]
  },
  {
   "cell_type": "code",
   "execution_count": 44,
   "metadata": {},
   "outputs": [
    {
     "data": {
      "text/plain": [
       "<AxesSubplot:xlabel='rate_var', ylabel='school_var'>"
      ]
     },
     "execution_count": 44,
     "metadata": {},
     "output_type": "execute_result"
    },
    {
     "data": {
      "image/png": "[encoded data removed]",
      "text/plain": [
       "<Figure size 432x288 with 1 Axes>"
      ]
     },
     "metadata": {
      "needs_background": "light"
     },
     "output_type": "display_data"
    }
   ],
   "source": [
    "df_mult.plot(x='rate_var',y='school_var',kind='scatter')"
   ]
  },
  {
   "cell_type": "code",
   "execution_count": 45,
   "metadata": {},
   "outputs": [
    {
     "data": {
      "text/plain": [
       "<AxesSubplot:xlabel='rate_var', ylabel='media_var'>"
      ]
     },
     "execution_count": 45,
     "metadata": {},
     "output_type": "execute_result"
    },
    {
     "data": {
      "image/png": "[encoded data removed]",
      "text/plain": [
       "<Figure size 432x288 with 1 Axes>"
      ]
     },
     "metadata": {
      "needs_background": "light"
     },
     "output_type": "display_data"
    }
   ],
   "source": [
    "df_mult.plot(x='rate_var',y='media_var',kind='scatter')"
   ]
  },
  {
   "cell_type": "code",
   "execution_count": 46,
   "metadata": {},
   "outputs": [
    {
     "data": {
      "text/html": [
       "<div>\n",
       "<style scoped>\n",
       "    .dataframe tbody tr th:only-of-type {\n",
       "        vertical-align: middle;\n",
       "    }\n",
       "\n",
       "    .dataframe tbody tr th {\n",
       "        vertical-align: top;\n",
       "    }\n",
       "\n",
       "    .dataframe thead th {\n",
       "        text-align: right;\n",
       "    }\n",
       "</style>\n",
       "<table border=\"1\" class=\"dataframe\">\n",
       "  <thead>\n",
       "    <tr style=\"text-align: right;\">\n",
       "      <th></th>\n",
       "      <th>local_authority_area</th>\n",
       "      <th>2008_cases_total</th>\n",
       "      <th>2013_cases_total</th>\n",
       "      <th>2018_cases_total</th>\n",
       "      <th>2008_pop_total</th>\n",
       "      <th>2013_pop_total</th>\n",
       "      <th>2018_pop_total</th>\n",
       "      <th>2008_cases_male</th>\n",
       "      <th>2013_cases_male</th>\n",
       "      <th>2018_cases_male</th>\n",
       "      <th>...</th>\n",
       "      <th>ratio_bchild_men_2013</th>\n",
       "      <th>ratio_bchild_men_2018</th>\n",
       "      <th>rate_var</th>\n",
       "      <th>fund_var</th>\n",
       "      <th>clean_var</th>\n",
       "      <th>env_var</th>\n",
       "      <th>health_var</th>\n",
       "      <th>school_var</th>\n",
       "      <th>sub_var</th>\n",
       "      <th>media_var</th>\n",
       "    </tr>\n",
       "  </thead>\n",
       "  <tbody>\n",
       "    <tr>\n",
       "      <th>25</th>\n",
       "      <td>City of London</td>\n",
       "      <td>16</td>\n",
       "      <td>14</td>\n",
       "      <td>12</td>\n",
       "      <td>11378</td>\n",
       "      <td>9838</td>\n",
       "      <td>8107</td>\n",
       "      <td>5</td>\n",
       "      <td>3</td>\n",
       "      <td>3</td>\n",
       "      <td>...</td>\n",
       "      <td>0.063452</td>\n",
       "      <td>0.068244</td>\n",
       "      <td>0.007398</td>\n",
       "      <td>1.773064</td>\n",
       "      <td>0.425535</td>\n",
       "      <td>0.319152</td>\n",
       "      <td>0.212768</td>\n",
       "      <td>0.709226</td>\n",
       "      <td>0.035461</td>\n",
       "      <td>0.070923</td>\n",
       "    </tr>\n",
       "  </tbody>\n",
       "</table>\n",
       "<p>1 rows × 51 columns</p>\n",
       "</div>"
      ],
      "text/plain": [
       "   local_authority_area  2008_cases_total  2013_cases_total  2018_cases_total  \\\n",
       "25       City of London                16                14                12   \n",
       "\n",
       "    2008_pop_total  2013_pop_total  2018_pop_total  2008_cases_male  \\\n",
       "25           11378            9838            8107                5   \n",
       "\n",
       "    2013_cases_male  2018_cases_male  ...  ratio_bchild_men_2013  \\\n",
       "25                3                3  ...               0.063452   \n",
       "\n",
       "    ratio_bchild_men_2018  rate_var  fund_var  clean_var   env_var  \\\n",
       "25               0.068244  0.007398  1.773064   0.425535  0.319152   \n",
       "\n",
       "    health_var  school_var   sub_var  media_var  \n",
       "25    0.212768    0.709226  0.035461   0.070923  \n",
       "\n",
       "[1 rows x 51 columns]"
      ]
     },
     "execution_count": 46,
     "metadata": {},
     "output_type": "execute_result"
    }
   ],
   "source": [
    "df[df['media_var']==df['media_var'].max()]"
   ]
  },
  {
   "cell_type": "code",
   "execution_count": 47,
   "metadata": {},
   "outputs": [
    {
     "data": {
      "text/html": [
       "<div>\n",
       "<style scoped>\n",
       "    .dataframe tbody tr th:only-of-type {\n",
       "        vertical-align: middle;\n",
       "    }\n",
       "\n",
       "    .dataframe tbody tr th {\n",
       "        vertical-align: top;\n",
       "    }\n",
       "\n",
       "    .dataframe thead th {\n",
       "        text-align: right;\n",
       "    }\n",
       "</style>\n",
       "<table border=\"1\" class=\"dataframe\">\n",
       "  <thead>\n",
       "    <tr style=\"text-align: right;\">\n",
       "      <th></th>\n",
       "      <th>local_authority_area</th>\n",
       "      <th>2008_cases_total</th>\n",
       "      <th>2013_cases_total</th>\n",
       "      <th>2018_cases_total</th>\n",
       "      <th>2008_pop_total</th>\n",
       "      <th>2013_pop_total</th>\n",
       "      <th>2018_pop_total</th>\n",
       "      <th>2008_cases_male</th>\n",
       "      <th>2013_cases_male</th>\n",
       "      <th>2018_cases_male</th>\n",
       "      <th>...</th>\n",
       "      <th>ratio_bchild_men_2013</th>\n",
       "      <th>ratio_bchild_men_2018</th>\n",
       "      <th>rate_var</th>\n",
       "      <th>fund_var</th>\n",
       "      <th>clean_var</th>\n",
       "      <th>env_var</th>\n",
       "      <th>health_var</th>\n",
       "      <th>school_var</th>\n",
       "      <th>sub_var</th>\n",
       "      <th>media_var</th>\n",
       "    </tr>\n",
       "  </thead>\n",
       "  <tbody>\n",
       "    <tr>\n",
       "      <th>59</th>\n",
       "      <td>Isles of Scilly</td>\n",
       "      <td>5</td>\n",
       "      <td>1</td>\n",
       "      <td>4</td>\n",
       "      <td>2200</td>\n",
       "      <td>2385</td>\n",
       "      <td>2440</td>\n",
       "      <td>2</td>\n",
       "      <td>0</td>\n",
       "      <td>1</td>\n",
       "      <td>...</td>\n",
       "      <td>0.0</td>\n",
       "      <td>0.070126</td>\n",
       "      <td>-0.063338</td>\n",
       "      <td>-0.089419</td>\n",
       "      <td>0.0</td>\n",
       "      <td>0.0</td>\n",
       "      <td>0.0</td>\n",
       "      <td>-0.089419</td>\n",
       "      <td>0.0</td>\n",
       "      <td>0.0</td>\n",
       "    </tr>\n",
       "  </tbody>\n",
       "</table>\n",
       "<p>1 rows × 51 columns</p>\n",
       "</div>"
      ],
      "text/plain": [
       "   local_authority_area  2008_cases_total  2013_cases_total  2018_cases_total  \\\n",
       "59      Isles of Scilly                 5                 1                 4   \n",
       "\n",
       "    2008_pop_total  2013_pop_total  2018_pop_total  2008_cases_male  \\\n",
       "59            2200            2385            2440                2   \n",
       "\n",
       "    2013_cases_male  2018_cases_male  ...  ratio_bchild_men_2013  \\\n",
       "59                0                1  ...                    0.0   \n",
       "\n",
       "    ratio_bchild_men_2018  rate_var  fund_var  clean_var  env_var  health_var  \\\n",
       "59               0.070126 -0.063338 -0.089419        0.0      0.0         0.0   \n",
       "\n",
       "    school_var  sub_var  media_var  \n",
       "59   -0.089419      0.0        0.0  \n",
       "\n",
       "[1 rows x 51 columns]"
      ]
     },
     "execution_count": 47,
     "metadata": {},
     "output_type": "execute_result"
    }
   ],
   "source": [
    "df[df['rate_var']==df['rate_var'].min()]"
   ]
  },
  {
   "cell_type": "code",
   "execution_count": 48,
   "metadata": {},
   "outputs": [],
   "source": [
    "#Importing essential libraries for Quantitative Methods\n",
    "import pandas as pd\n",
    "from sklearn.linear_model import LinearRegression\n",
    "import statsmodels.api as sm\n",
    "\n",
    "import numpy as np\n",
    "\n",
    "import sklearn\n",
    "from sklearn.linear_model import LogisticRegression\n",
    "from sklearn.metrics import confusion_matrix\n",
    "\n",
    "import matplotlib.pyplot as plt\n",
    "import seaborn as sn\n",
    "\n",
    "pd.set_option('display.max_rows', 300) # specifies number of rows to show\n",
    "pd.options.display.float_format = '{:40,.4f}'.format # specifies default number format to 4 decimal places\n",
    "plt.style.use('ggplot') # specifies that graphs should use ggplot styling\n",
    "%matplotlib inline"
   ]
  },
  {
   "cell_type": "code",
   "execution_count": 49,
   "metadata": {},
   "outputs": [
    {
     "data": {
      "text/plain": [
       "['local_authority_area',\n",
       " '2008_cases_total',\n",
       " '2013_cases_total',\n",
       " '2018_cases_total',\n",
       " '2008_pop_total',\n",
       " '2013_pop_total',\n",
       " '2018_pop_total',\n",
       " '2008_cases_male',\n",
       " '2013_cases_male',\n",
       " '2018_cases_male',\n",
       " '2008_pop_male',\n",
       " '2013_pop_male',\n",
       " '2018_pop_male',\n",
       " '2008_cases_female',\n",
       " '2013_cases_female',\n",
       " '2018_cases_female',\n",
       " '2008_pop_female',\n",
       " '2013_pop_female',\n",
       " '2018_pop_female',\n",
       " 'total_budget',\n",
       " 'clean_air',\n",
       " 'clean_environ',\n",
       " 'health_training',\n",
       " 'school_awareness',\n",
       " 'media_awareness',\n",
       " 'sub_counselling',\n",
       " 'region',\n",
       " 'local_authority_type',\n",
       " 'inv_per_ciz_2008',\n",
       " 'inv_per_ciz_2013',\n",
       " 'inv_per_ciz_2018',\n",
       " 'inv_per_oc_2008',\n",
       " 'inv_per_oc_2013',\n",
       " 'inv_per_oc_2018',\n",
       " 'ratio_child_cit_2008',\n",
       " 'ratio_child_cit_2013',\n",
       " 'ratio_child_cit_2018',\n",
       " 'ratio_gchild_wom_2008',\n",
       " 'ratio_gchild_wom_2013',\n",
       " 'ratio_gchild_wom_2018',\n",
       " 'ratio_bchild_men_2008',\n",
       " 'ratio_bchild_men_2013',\n",
       " 'ratio_bchild_men_2018',\n",
       " 'rate_var',\n",
       " 'fund_var',\n",
       " 'clean_var',\n",
       " 'env_var',\n",
       " 'health_var',\n",
       " 'school_var',\n",
       " 'sub_var',\n",
       " 'media_var']"
      ]
     },
     "execution_count": 49,
     "metadata": {},
     "output_type": "execute_result"
    }
   ],
   "source": [
    "list(df.columns.values)"
   ]
  },
  {
   "cell_type": "code",
   "execution_count": 51,
   "metadata": {},
   "outputs": [
    {
     "data": {
      "text/plain": [
       "local_authority_area                              City of London\n",
       "2008_cases_total                                              16\n",
       "2013_cases_total                                              14\n",
       "2018_cases_total                                              12\n",
       "2008_pop_total                                             11378\n",
       "2013_pop_total                                              9838\n",
       "2018_pop_total                                              8107\n",
       "2008_cases_male                                                5\n",
       "2013_cases_male                                                3\n",
       "2018_cases_male                                                3\n",
       "2008_pop_male                                               5653\n",
       "2013_pop_male                                               4728\n",
       "2018_pop_male                                               4396\n",
       "2008_cases_female                                             11\n",
       "2013_cases_female                                             11\n",
       "2018_cases_female                                              9\n",
       "2008_pop_female                                             5725\n",
       "2013_pop_female                                             5110\n",
       "2018_pop_female                                             3711\n",
       "total_budget                                               50000\n",
       "clean_air                                                  12000\n",
       "clean_environ                                               9000\n",
       "health_training                                             6000\n",
       "school_awareness                                           20000\n",
       "media_awareness                                             2000\n",
       "sub_counselling                                             1000\n",
       "region                                                    London\n",
       "local_authority_type                                other_london\n",
       "inv_per_ciz_2008                                          4.3944\n",
       "inv_per_ciz_2013                                          5.0823\n",
       "inv_per_ciz_2018                                          6.1675\n",
       "inv_per_oc_2008                                       3,125.0000\n",
       "inv_per_oc_2013                                       3,571.4286\n",
       "inv_per_oc_2018                                       4,166.6667\n",
       "ratio_child_cit_2008                                      0.1406\n",
       "ratio_child_cit_2013                                      0.1423\n",
       "ratio_child_cit_2018                                      0.1480\n",
       "ratio_gchild_wom_2008                                     0.1921\n",
       "ratio_gchild_wom_2013                                     0.2153\n",
       "ratio_gchild_wom_2018                                     0.2425\n",
       "ratio_bchild_men_2008                                     0.0884\n",
       "ratio_bchild_men_2013                                     0.0635\n",
       "ratio_bchild_men_2018                                     0.0682\n",
       "rate_var                                                  0.0074\n",
       "fund_var                                                  1.7731\n",
       "clean_var                                                 0.4255\n",
       "env_var                                                   0.3192\n",
       "health_var                                                0.2128\n",
       "school_var                                                0.7092\n",
       "sub_var                                                   0.0355\n",
       "media_var                                                 0.0709\n",
       "Name: 25, dtype: object"
      ]
     },
     "execution_count": 51,
     "metadata": {},
     "output_type": "execute_result"
    }
   ],
   "source": [
    "df.iloc[25]"
   ]
  },
  {
   "cell_type": "code",
   "execution_count": 52,
   "metadata": {},
   "outputs": [
    {
     "data": {
      "text/plain": [
       "local_authority_area                             Isles of Scilly\n",
       "2008_cases_total                                               5\n",
       "2013_cases_total                                               1\n",
       "2018_cases_total                                               4\n",
       "2008_pop_total                                              2200\n",
       "2013_pop_total                                              2385\n",
       "2018_pop_total                                              2440\n",
       "2008_cases_male                                                2\n",
       "2013_cases_male                                                0\n",
       "2018_cases_male                                                1\n",
       "2008_pop_male                                               1085\n",
       "2013_pop_male                                               1305\n",
       "2018_pop_male                                               1426\n",
       "2008_cases_female                                              3\n",
       "2013_cases_female                                              1\n",
       "2018_cases_female                                              3\n",
       "2008_pop_female                                             1115\n",
       "2013_pop_female                                             1080\n",
       "2018_pop_female                                             1014\n",
       "total_budget                                                2000\n",
       "clean_air                                                      0\n",
       "clean_environ                                                  0\n",
       "health_training                                                0\n",
       "school_awareness                                            2000\n",
       "media_awareness                                                0\n",
       "sub_counselling                                                0\n",
       "region                                                South West\n",
       "local_authority_type                           unitary_authority\n",
       "inv_per_ciz_2008                                          0.9091\n",
       "inv_per_ciz_2013                                          0.8386\n",
       "inv_per_ciz_2018                                          0.8197\n",
       "inv_per_oc_2008                                         400.0000\n",
       "inv_per_oc_2013                                       2,000.0000\n",
       "inv_per_oc_2018                                         500.0000\n",
       "ratio_child_cit_2008                                      0.2273\n",
       "ratio_child_cit_2013                                      0.0419\n",
       "ratio_child_cit_2018                                      0.1639\n",
       "ratio_gchild_wom_2008                                     0.2691\n",
       "ratio_gchild_wom_2013                                     0.0926\n",
       "ratio_gchild_wom_2018                                     0.2959\n",
       "ratio_bchild_men_2008                                     0.1843\n",
       "ratio_bchild_men_2013                                     0.0000\n",
       "ratio_bchild_men_2018                                     0.0701\n",
       "rate_var                                                 -0.0633\n",
       "fund_var                                                 -0.0894\n",
       "clean_var                                                 0.0000\n",
       "env_var                                                   0.0000\n",
       "health_var                                                0.0000\n",
       "school_var                                               -0.0894\n",
       "sub_var                                                   0.0000\n",
       "media_var                                                 0.0000\n",
       "Name: 59, dtype: object"
      ]
     },
     "execution_count": 52,
     "metadata": {},
     "output_type": "execute_result"
    }
   ],
   "source": [
    "df.iloc[59]"
   ]
  },
  {
   "cell_type": "code",
   "execution_count": 53,
   "metadata": {},
   "outputs": [
    {
     "data": {
      "text/plain": [
       "unitary_authority          56\n",
       "metropolitan_borough       36\n",
       "london_borough             32\n",
       "non_metropolitan_county    27\n",
       "other_london                1\n",
       "Name: local_authority_type, dtype: int64"
      ]
     },
     "execution_count": 53,
     "metadata": {},
     "output_type": "execute_result"
    }
   ],
   "source": [
    "df['local_authority_type'].value_counts()"
   ]
  },
  {
   "cell_type": "code",
   "execution_count": 54,
   "metadata": {},
   "outputs": [
    {
     "data": {
      "text/plain": [
       "3      Bath and North East Somerset\n",
       "4                           Bedford\n",
       "7             Blackburn with Darwen\n",
       "8                         Blackpool\n",
       "10                      Bournemouth\n",
       "11                 Bracknell Forest\n",
       "14                Brighton and Hove\n",
       "15                          Bristol\n",
       "22             Central Bedfordshire\n",
       "23                    Cheshire East\n",
       "24        Cheshire West and Chester\n",
       "26                         Cornwall\n",
       "30                       Darlington\n",
       "31                            Derby\n",
       "37                           Durham\n",
       "39         East Riding of Yorkshire\n",
       "47                           Halton\n",
       "52                       Hartlepool\n",
       "54                    Herefordshire\n",
       "58                    Isle of Wight\n",
       "59                  Isles of Scilly\n",
       "63               Kingston upon Hull\n",
       "70                        Leicester\n",
       "75                            Luton\n",
       "77                           Medway\n",
       "79                    Middlesbrough\n",
       "80                    Milton Keynes\n",
       "84          North East Lincolnshire\n",
       "85               North Lincolnshire\n",
       "86                   North Somerset\n",
       "90                   Northumberland\n",
       "91                       Nottingham\n",
       "95                     Peterborough\n",
       "96                         Plymouth\n",
       "97                            Poole\n",
       "98                       Portsmouth\n",
       "99                          Reading\n",
       "101            Redcar and Cleveland\n",
       "105                         Rutland\n",
       "110                      Shropshire\n",
       "111                          Slough\n",
       "114           South Gloucestershire\n",
       "116                     Southampton\n",
       "117                 Southend on Sea\n",
       "122                Stockton on Tees\n",
       "123                  Stoke on Trent\n",
       "128                         Swindon\n",
       "130              Telford and Wrekin\n",
       "131                        Thurrock\n",
       "132                          Torbay\n",
       "139                      Warrington\n",
       "141                  West Berkshire\n",
       "145                       Wiltshire\n",
       "146          Windsor and Maidenhead\n",
       "148                       Wokingham\n",
       "151                            York\n",
       "Name: local_authority_area, dtype: object"
      ]
     },
     "execution_count": 54,
     "metadata": {},
     "output_type": "execute_result"
    }
   ],
   "source": [
    "df[df['local_authority_type']=='unitary_authority']['local_authority_area']"
   ]
  },
  {
   "cell_type": "code",
   "execution_count": 56,
   "metadata": {},
   "outputs": [
    {
     "data": {
      "text/html": [
       "<div>\n",
       "<style scoped>\n",
       "    .dataframe tbody tr th:only-of-type {\n",
       "        vertical-align: middle;\n",
       "    }\n",
       "\n",
       "    .dataframe tbody tr th {\n",
       "        vertical-align: top;\n",
       "    }\n",
       "\n",
       "    .dataframe thead th {\n",
       "        text-align: right;\n",
       "    }\n",
       "</style>\n",
       "<table border=\"1\" class=\"dataframe\">\n",
       "  <thead>\n",
       "    <tr style=\"text-align: right;\">\n",
       "      <th></th>\n",
       "      <th>local_authority_area</th>\n",
       "      <th>rate_var</th>\n",
       "      <th>fund_var</th>\n",
       "      <th>clean_var</th>\n",
       "      <th>env_var</th>\n",
       "      <th>health_var</th>\n",
       "      <th>school_var</th>\n",
       "      <th>sub_var</th>\n",
       "      <th>media_var</th>\n",
       "    </tr>\n",
       "  </thead>\n",
       "  <tbody>\n",
       "    <tr>\n",
       "      <th>0</th>\n",
       "      <td>Barking and Dagenham</td>\n",
       "      <td>0.0763</td>\n",
       "      <td>-0.0403</td>\n",
       "      <td>-0.0061</td>\n",
       "      <td>-0.0064</td>\n",
       "      <td>-0.0052</td>\n",
       "      <td>-0.0119</td>\n",
       "      <td>-0.0055</td>\n",
       "      <td>-0.0052</td>\n",
       "    </tr>\n",
       "    <tr>\n",
       "      <th>1</th>\n",
       "      <td>Barnet</td>\n",
       "      <td>0.0588</td>\n",
       "      <td>-0.0282</td>\n",
       "      <td>-0.0064</td>\n",
       "      <td>-0.0022</td>\n",
       "      <td>-0.0029</td>\n",
       "      <td>-0.0095</td>\n",
       "      <td>-0.0033</td>\n",
       "      <td>-0.0038</td>\n",
       "    </tr>\n",
       "    <tr>\n",
       "      <th>2</th>\n",
       "      <td>Barnsley</td>\n",
       "      <td>0.0456</td>\n",
       "      <td>-0.0852</td>\n",
       "      <td>-0.0218</td>\n",
       "      <td>-0.0240</td>\n",
       "      <td>-0.0027</td>\n",
       "      <td>-0.0138</td>\n",
       "      <td>-0.0075</td>\n",
       "      <td>-0.0154</td>\n",
       "    </tr>\n",
       "    <tr>\n",
       "      <th>3</th>\n",
       "      <td>Bath and North East Somerset</td>\n",
       "      <td>0.0056</td>\n",
       "      <td>-0.0510</td>\n",
       "      <td>-0.0104</td>\n",
       "      <td>-0.0133</td>\n",
       "      <td>-0.0060</td>\n",
       "      <td>-0.0158</td>\n",
       "      <td>-0.0022</td>\n",
       "      <td>-0.0032</td>\n",
       "    </tr>\n",
       "    <tr>\n",
       "      <th>4</th>\n",
       "      <td>Bedford</td>\n",
       "      <td>0.0187</td>\n",
       "      <td>-0.0592</td>\n",
       "      <td>-0.0168</td>\n",
       "      <td>-0.0237</td>\n",
       "      <td>-0.0077</td>\n",
       "      <td>-0.0036</td>\n",
       "      <td>-0.0059</td>\n",
       "      <td>-0.0014</td>\n",
       "    </tr>\n",
       "  </tbody>\n",
       "</table>\n",
       "</div>"
      ],
      "text/plain": [
       "           local_authority_area                                 rate_var  \\\n",
       "0          Barking and Dagenham                                   0.0763   \n",
       "1                        Barnet                                   0.0588   \n",
       "2                      Barnsley                                   0.0456   \n",
       "3  Bath and North East Somerset                                   0.0056   \n",
       "4                       Bedford                                   0.0187   \n",
       "\n",
       "                                  fund_var  \\\n",
       "0                                  -0.0403   \n",
       "1                                  -0.0282   \n",
       "2                                  -0.0852   \n",
       "3                                  -0.0510   \n",
       "4                                  -0.0592   \n",
       "\n",
       "                                 clean_var  \\\n",
       "0                                  -0.0061   \n",
       "1                                  -0.0064   \n",
       "2                                  -0.0218   \n",
       "3                                  -0.0104   \n",
       "4                                  -0.0168   \n",
       "\n",
       "                                   env_var  \\\n",
       "0                                  -0.0064   \n",
       "1                                  -0.0022   \n",
       "2                                  -0.0240   \n",
       "3                                  -0.0133   \n",
       "4                                  -0.0237   \n",
       "\n",
       "                                health_var  \\\n",
       "0                                  -0.0052   \n",
       "1                                  -0.0029   \n",
       "2                                  -0.0027   \n",
       "3                                  -0.0060   \n",
       "4                                  -0.0077   \n",
       "\n",
       "                                school_var  \\\n",
       "0                                  -0.0119   \n",
       "1                                  -0.0095   \n",
       "2                                  -0.0138   \n",
       "3                                  -0.0158   \n",
       "4                                  -0.0036   \n",
       "\n",
       "                                   sub_var  \\\n",
       "0                                  -0.0055   \n",
       "1                                  -0.0033   \n",
       "2                                  -0.0075   \n",
       "3                                  -0.0022   \n",
       "4                                  -0.0059   \n",
       "\n",
       "                                 media_var  \n",
       "0                                  -0.0052  \n",
       "1                                  -0.0038  \n",
       "2                                  -0.0154  \n",
       "3                                  -0.0032  \n",
       "4                                  -0.0014  "
      ]
     },
     "execution_count": 56,
     "metadata": {},
     "output_type": "execute_result"
    }
   ],
   "source": [
    "df_mult.head()"
   ]
  },
  {
   "cell_type": "code",
   "execution_count": 57,
   "metadata": {},
   "outputs": [
    {
     "data": {
      "image/png": "[encoded data removed]",
      "text/plain": [
       "<Figure size 432x288 with 64 Axes>"
      ]
     },
     "metadata": {
      "needs_background": "light"
     },
     "output_type": "display_data"
    }
   ],
   "source": [
    "import matplotlib.pyplot as plt\n",
    "pd.plotting.scatter_matrix(df_mult)\n",
    "plt.savefig('../scatter_matrix.pdf')"
   ]
  },
  {
   "cell_type": "code",
   "execution_count": 58,
   "metadata": {},
   "outputs": [
    {
     "name": "stdout",
     "output_type": "stream",
     "text": [
      "                                           rate_var  \\\n",
      "rate_var                                     1.0000   \n",
      "fund_var                                     0.0598   \n",
      "clean_var                                    0.0332   \n",
      "env_var                                      0.1060   \n",
      "health_var                                   0.0283   \n",
      "school_var                                   0.0311   \n",
      "sub_var                                      0.1876   \n",
      "media_var                                    0.1349   \n",
      "\n",
      "                                           fund_var  \\\n",
      "rate_var                                     0.0598   \n",
      "fund_var                                     1.0000   \n",
      "clean_var                                    0.9877   \n",
      "env_var                                      0.9648   \n",
      "health_var                                   0.9851   \n",
      "school_var                                   0.9820   \n",
      "sub_var                                      0.7734   \n",
      "media_var                                    0.8176   \n",
      "\n",
      "                                          clean_var  \\\n",
      "rate_var                                     0.0332   \n",
      "fund_var                                     0.9877   \n",
      "clean_var                                    1.0000   \n",
      "env_var                                      0.9373   \n",
      "health_var                                   0.9763   \n",
      "school_var                                   0.9691   \n",
      "sub_var                                      0.7382   \n",
      "media_var                                    0.7788   \n",
      "\n",
      "                                            env_var  \\\n",
      "rate_var                                     0.1060   \n",
      "fund_var                                     0.9648   \n",
      "clean_var                                    0.9373   \n",
      "env_var                                      1.0000   \n",
      "health_var                                   0.9344   \n",
      "school_var                                   0.9139   \n",
      "sub_var                                      0.7997   \n",
      "media_var                                    0.8313   \n",
      "\n",
      "                                         health_var  \\\n",
      "rate_var                                     0.0283   \n",
      "fund_var                                     0.9851   \n",
      "clean_var                                    0.9763   \n",
      "env_var                                      0.9344   \n",
      "health_var                                   1.0000   \n",
      "school_var                                   0.9742   \n",
      "sub_var                                      0.7221   \n",
      "media_var                                    0.7707   \n",
      "\n",
      "                                         school_var  \\\n",
      "rate_var                                     0.0311   \n",
      "fund_var                                     0.9820   \n",
      "clean_var                                    0.9691   \n",
      "env_var                                      0.9139   \n",
      "health_var                                   0.9742   \n",
      "school_var                                   1.0000   \n",
      "sub_var                                      0.6810   \n",
      "media_var                                    0.7306   \n",
      "\n",
      "                                            sub_var  \\\n",
      "rate_var                                     0.1876   \n",
      "fund_var                                     0.7734   \n",
      "clean_var                                    0.7382   \n",
      "env_var                                      0.7997   \n",
      "health_var                                   0.7221   \n",
      "school_var                                   0.6810   \n",
      "sub_var                                      1.0000   \n",
      "media_var                                    0.8709   \n",
      "\n",
      "                                          media_var  \n",
      "rate_var                                     0.1349  \n",
      "fund_var                                     0.8176  \n",
      "clean_var                                    0.7788  \n",
      "env_var                                      0.8313  \n",
      "health_var                                   0.7707  \n",
      "school_var                                   0.7306  \n",
      "sub_var                                      0.8709  \n",
      "media_var                                    1.0000  \n"
     ]
    }
   ],
   "source": [
    "corrMatrix = df_mult.corr()\n",
    "print(corrMatrix)"
   ]
  },
  {
   "cell_type": "code",
   "execution_count": 138,
   "metadata": {},
   "outputs": [],
   "source": [
    "#Set up independent and dependent variables\n",
    "x=pd.DataFrame(df_mult.iloc[:,3:])\n",
    "y=pd.DataFrame(df_mult.iloc[:,1])"
   ]
  },
  {
   "cell_type": "code",
   "execution_count": 136,
   "metadata": {},
   "outputs": [
    {
     "data": {
      "text/html": [
       "<div>\n",
       "<style scoped>\n",
       "    .dataframe tbody tr th:only-of-type {\n",
       "        vertical-align: middle;\n",
       "    }\n",
       "\n",
       "    .dataframe tbody tr th {\n",
       "        vertical-align: top;\n",
       "    }\n",
       "\n",
       "    .dataframe thead th {\n",
       "        text-align: right;\n",
       "    }\n",
       "</style>\n",
       "<table border=\"1\" class=\"dataframe\">\n",
       "  <thead>\n",
       "    <tr style=\"text-align: right;\">\n",
       "      <th></th>\n",
       "      <th>clean_var</th>\n",
       "      <th>env_var</th>\n",
       "      <th>health_var</th>\n",
       "      <th>school_var</th>\n",
       "      <th>media_var</th>\n",
       "      <th>sub_var</th>\n",
       "    </tr>\n",
       "  </thead>\n",
       "  <tbody>\n",
       "    <tr>\n",
       "      <th>0</th>\n",
       "      <td>-0.006085</td>\n",
       "      <td>-0.006374</td>\n",
       "      <td>-0.005215</td>\n",
       "      <td>-0.011879</td>\n",
       "      <td>-0.005215</td>\n",
       "      <td>-0.005505</td>\n",
       "    </tr>\n",
       "    <tr>\n",
       "      <th>1</th>\n",
       "      <td>-0.006404</td>\n",
       "      <td>-0.002177</td>\n",
       "      <td>-0.002946</td>\n",
       "      <td>-0.009478</td>\n",
       "      <td>-0.003842</td>\n",
       "      <td>-0.003330</td>\n",
       "    </tr>\n",
       "    <tr>\n",
       "      <th>2</th>\n",
       "      <td>-0.021825</td>\n",
       "      <td>-0.023954</td>\n",
       "      <td>-0.002662</td>\n",
       "      <td>-0.013840</td>\n",
       "      <td>-0.015437</td>\n",
       "      <td>-0.007452</td>\n",
       "    </tr>\n",
       "    <tr>\n",
       "      <th>3</th>\n",
       "      <td>-0.010449</td>\n",
       "      <td>-0.013299</td>\n",
       "      <td>-0.006016</td>\n",
       "      <td>-0.015832</td>\n",
       "      <td>-0.003166</td>\n",
       "      <td>-0.002217</td>\n",
       "    </tr>\n",
       "    <tr>\n",
       "      <th>4</th>\n",
       "      <td>-0.016847</td>\n",
       "      <td>-0.023677</td>\n",
       "      <td>-0.007741</td>\n",
       "      <td>-0.003643</td>\n",
       "      <td>-0.001366</td>\n",
       "      <td>-0.005919</td>\n",
       "    </tr>\n",
       "    <tr>\n",
       "      <th>...</th>\n",
       "      <td>...</td>\n",
       "      <td>...</td>\n",
       "      <td>...</td>\n",
       "      <td>...</td>\n",
       "      <td>...</td>\n",
       "      <td>...</td>\n",
       "    </tr>\n",
       "    <tr>\n",
       "      <th>147</th>\n",
       "      <td>-0.020493</td>\n",
       "      <td>-0.013959</td>\n",
       "      <td>-0.008910</td>\n",
       "      <td>-0.012177</td>\n",
       "      <td>-0.004158</td>\n",
       "      <td>-0.002376</td>\n",
       "    </tr>\n",
       "    <tr>\n",
       "      <th>148</th>\n",
       "      <td>-0.004390</td>\n",
       "      <td>-0.009000</td>\n",
       "      <td>-0.002854</td>\n",
       "      <td>-0.004171</td>\n",
       "      <td>-0.002195</td>\n",
       "      <td>-0.001317</td>\n",
       "    </tr>\n",
       "    <tr>\n",
       "      <th>149</th>\n",
       "      <td>-0.006908</td>\n",
       "      <td>-0.010362</td>\n",
       "      <td>-0.008827</td>\n",
       "      <td>-0.021107</td>\n",
       "      <td>-0.019188</td>\n",
       "      <td>-0.010746</td>\n",
       "    </tr>\n",
       "    <tr>\n",
       "      <th>150</th>\n",
       "      <td>-0.027930</td>\n",
       "      <td>-0.024439</td>\n",
       "      <td>-0.012438</td>\n",
       "      <td>-0.016584</td>\n",
       "      <td>-0.014620</td>\n",
       "      <td>-0.006546</td>\n",
       "    </tr>\n",
       "    <tr>\n",
       "      <th>151</th>\n",
       "      <td>-0.001903</td>\n",
       "      <td>-0.014840</td>\n",
       "      <td>-0.003044</td>\n",
       "      <td>-0.012176</td>\n",
       "      <td>-0.014079</td>\n",
       "      <td>-0.007230</td>\n",
       "    </tr>\n",
       "  </tbody>\n",
       "</table>\n",
       "<p>152 rows × 6 columns</p>\n",
       "</div>"
      ],
      "text/plain": [
       "     clean_var   env_var  health_var  school_var  media_var   sub_var\n",
       "0    -0.006085 -0.006374   -0.005215   -0.011879  -0.005215 -0.005505\n",
       "1    -0.006404 -0.002177   -0.002946   -0.009478  -0.003842 -0.003330\n",
       "2    -0.021825 -0.023954   -0.002662   -0.013840  -0.015437 -0.007452\n",
       "3    -0.010449 -0.013299   -0.006016   -0.015832  -0.003166 -0.002217\n",
       "4    -0.016847 -0.023677   -0.007741   -0.003643  -0.001366 -0.005919\n",
       "..         ...       ...         ...         ...        ...       ...\n",
       "147  -0.020493 -0.013959   -0.008910   -0.012177  -0.004158 -0.002376\n",
       "148  -0.004390 -0.009000   -0.002854   -0.004171  -0.002195 -0.001317\n",
       "149  -0.006908 -0.010362   -0.008827   -0.021107  -0.019188 -0.010746\n",
       "150  -0.027930 -0.024439   -0.012438   -0.016584  -0.014620 -0.006546\n",
       "151  -0.001903 -0.014840   -0.003044   -0.012176  -0.014079 -0.007230\n",
       "\n",
       "[152 rows x 6 columns]"
      ]
     },
     "execution_count": 136,
     "metadata": {},
     "output_type": "execute_result"
    }
   ],
   "source": [
    "x"
   ]
  },
  {
   "cell_type": "code",
   "execution_count": 139,
   "metadata": {},
   "outputs": [
    {
     "data": {
      "text/html": [
       "<div>\n",
       "<style scoped>\n",
       "    .dataframe tbody tr th:only-of-type {\n",
       "        vertical-align: middle;\n",
       "    }\n",
       "\n",
       "    .dataframe tbody tr th {\n",
       "        vertical-align: top;\n",
       "    }\n",
       "\n",
       "    .dataframe thead th {\n",
       "        text-align: right;\n",
       "    }\n",
       "</style>\n",
       "<table border=\"1\" class=\"dataframe\">\n",
       "  <thead>\n",
       "    <tr style=\"text-align: right;\">\n",
       "      <th></th>\n",
       "      <th>rate_var</th>\n",
       "    </tr>\n",
       "  </thead>\n",
       "  <tbody>\n",
       "    <tr>\n",
       "      <th>0</th>\n",
       "      <td>0.076339</td>\n",
       "    </tr>\n",
       "    <tr>\n",
       "      <th>1</th>\n",
       "      <td>0.058835</td>\n",
       "    </tr>\n",
       "    <tr>\n",
       "      <th>2</th>\n",
       "      <td>0.045595</td>\n",
       "    </tr>\n",
       "    <tr>\n",
       "      <th>3</th>\n",
       "      <td>0.005631</td>\n",
       "    </tr>\n",
       "    <tr>\n",
       "      <th>4</th>\n",
       "      <td>0.018691</td>\n",
       "    </tr>\n",
       "    <tr>\n",
       "      <th>...</th>\n",
       "      <td>...</td>\n",
       "    </tr>\n",
       "    <tr>\n",
       "      <th>147</th>\n",
       "      <td>0.048750</td>\n",
       "    </tr>\n",
       "    <tr>\n",
       "      <th>148</th>\n",
       "      <td>0.027384</td>\n",
       "    </tr>\n",
       "    <tr>\n",
       "      <th>149</th>\n",
       "      <td>0.052979</td>\n",
       "    </tr>\n",
       "    <tr>\n",
       "      <th>150</th>\n",
       "      <td>0.022189</td>\n",
       "    </tr>\n",
       "    <tr>\n",
       "      <th>151</th>\n",
       "      <td>0.070530</td>\n",
       "    </tr>\n",
       "  </tbody>\n",
       "</table>\n",
       "<p>152 rows × 1 columns</p>\n",
       "</div>"
      ],
      "text/plain": [
       "     rate_var\n",
       "0    0.076339\n",
       "1    0.058835\n",
       "2    0.045595\n",
       "3    0.005631\n",
       "4    0.018691\n",
       "..        ...\n",
       "147  0.048750\n",
       "148  0.027384\n",
       "149  0.052979\n",
       "150  0.022189\n",
       "151  0.070530\n",
       "\n",
       "[152 rows x 1 columns]"
      ]
     },
     "execution_count": 139,
     "metadata": {},
     "output_type": "execute_result"
    }
   ],
   "source": [
    "y"
   ]
  },
  {
   "cell_type": "code",
   "execution_count": 1,
   "metadata": {},
   "outputs": [
    {
     "ename": "NameError",
     "evalue": "name 'df_mult' is not defined",
     "output_type": "error",
     "traceback": [
      "\u001b[0;31m---------------------------------------------------------------------------\u001b[0m",
      "\u001b[0;31mNameError\u001b[0m                                 Traceback (most recent call last)",
      "\u001b[0;32m<ipython-input-1-bb7d65251a44>\u001b[0m in \u001b[0;36m<module>\u001b[0;34m\u001b[0m\n\u001b[0;32m----> 1\u001b[0;31m \u001b[0mdf_plt\u001b[0m \u001b[0;34m=\u001b[0m \u001b[0mdf_mult\u001b[0m\u001b[0;34m\u001b[0m\u001b[0;34m\u001b[0m\u001b[0m\n\u001b[0m\u001b[1;32m      2\u001b[0m \u001b[0mplt\u001b[0m\u001b[0;34m.\u001b[0m\u001b[0mrcParams\u001b[0m\u001b[0;34m[\u001b[0m\u001b[0;34m\"axes.grid\"\u001b[0m\u001b[0;34m]\u001b[0m \u001b[0;34m=\u001b[0m \u001b[0;32mFalse\u001b[0m\u001b[0;34m\u001b[0m\u001b[0;34m\u001b[0m\u001b[0m\n\u001b[1;32m      3\u001b[0m \u001b[0mf\u001b[0m \u001b[0;34m=\u001b[0m \u001b[0mplt\u001b[0m\u001b[0;34m.\u001b[0m\u001b[0mfigure\u001b[0m\u001b[0;34m(\u001b[0m\u001b[0mfigsize\u001b[0m\u001b[0;34m=\u001b[0m\u001b[0;34m(\u001b[0m\u001b[0;36m19\u001b[0m\u001b[0;34m,\u001b[0m \u001b[0;36m15\u001b[0m\u001b[0;34m)\u001b[0m\u001b[0;34m)\u001b[0m\u001b[0;34m\u001b[0m\u001b[0;34m\u001b[0m\u001b[0m\n\u001b[1;32m      4\u001b[0m \u001b[0mplt\u001b[0m\u001b[0;34m.\u001b[0m\u001b[0mmatshow\u001b[0m\u001b[0;34m(\u001b[0m\u001b[0mdf_plt\u001b[0m\u001b[0;34m.\u001b[0m\u001b[0mcorr\u001b[0m\u001b[0;34m(\u001b[0m\u001b[0;34m)\u001b[0m\u001b[0;34m,\u001b[0m \u001b[0mfignum\u001b[0m\u001b[0;34m=\u001b[0m\u001b[0mf\u001b[0m\u001b[0;34m.\u001b[0m\u001b[0mnumber\u001b[0m\u001b[0;34m)\u001b[0m\u001b[0;34m\u001b[0m\u001b[0;34m\u001b[0m\u001b[0m\n\u001b[1;32m      5\u001b[0m \u001b[0mplt\u001b[0m\u001b[0;34m.\u001b[0m\u001b[0mxticks\u001b[0m\u001b[0;34m(\u001b[0m\u001b[0mrange\u001b[0m\u001b[0;34m(\u001b[0m\u001b[0mdf_plt\u001b[0m\u001b[0;34m.\u001b[0m\u001b[0mshape\u001b[0m\u001b[0;34m[\u001b[0m\u001b[0;36m1\u001b[0m\u001b[0;34m]\u001b[0m\u001b[0;34m)\u001b[0m\u001b[0;34m,\u001b[0m \u001b[0mdf_plt\u001b[0m\u001b[0;34m.\u001b[0m\u001b[0mcolumns\u001b[0m\u001b[0;34m,\u001b[0m \u001b[0mfontsize\u001b[0m\u001b[0;34m=\u001b[0m\u001b[0;36m14\u001b[0m\u001b[0;34m,\u001b[0m \u001b[0mrotation\u001b[0m\u001b[0;34m=\u001b[0m\u001b[0;36m45\u001b[0m\u001b[0;34m)\u001b[0m\u001b[0;34m\u001b[0m\u001b[0;34m\u001b[0m\u001b[0m\n",
      "\u001b[0;31mNameError\u001b[0m: name 'df_mult' is not defined"
     ]
    }
   ],
   "source": [
    "df_plt = df_mult\n",
    "plt.rcParams[\"axes.grid\"] = False\n",
    "f = plt.figure(figsize=(19, 15))\n",
    "plt.matshow(df_plt.corr(), fignum=f.number)\n",
    "plt.xticks(range(df_plt.shape[1]), df_plt.columns, fontsize=14, rotation=45)\n",
    "plt.yticks(range(df_plt.shape[1]), df_plt.columns, fontsize=14)\n",
    "cb = plt.colorbar()\n",
    "cb.ax.tick_params(labelsize=14)\n",
    "plt.title('Correlation Matrix', fontsize=16)"
   ]
  },
  {
   "cell_type": "code",
   "execution_count": 59,
   "metadata": {},
   "outputs": [
    {
     "data": {
      "text/html": [
       "<div>\n",
       "<style scoped>\n",
       "    .dataframe tbody tr th:only-of-type {\n",
       "        vertical-align: middle;\n",
       "    }\n",
       "\n",
       "    .dataframe tbody tr th {\n",
       "        vertical-align: top;\n",
       "    }\n",
       "\n",
       "    .dataframe thead th {\n",
       "        text-align: right;\n",
       "    }\n",
       "</style>\n",
       "<table border=\"1\" class=\"dataframe\">\n",
       "  <thead>\n",
       "    <tr style=\"text-align: right;\">\n",
       "      <th></th>\n",
       "      <th>local_authority_area</th>\n",
       "      <th>rate_var</th>\n",
       "      <th>fund_var</th>\n",
       "      <th>clean_var</th>\n",
       "      <th>env_var</th>\n",
       "      <th>health_var</th>\n",
       "      <th>school_var</th>\n",
       "      <th>sub_var</th>\n",
       "      <th>media_var</th>\n",
       "    </tr>\n",
       "  </thead>\n",
       "  <tbody>\n",
       "    <tr>\n",
       "      <th>0</th>\n",
       "      <td>Barking and Dagenham</td>\n",
       "      <td>0.0763</td>\n",
       "      <td>-0.0403</td>\n",
       "      <td>-0.0061</td>\n",
       "      <td>-0.0064</td>\n",
       "      <td>-0.0052</td>\n",
       "      <td>-0.0119</td>\n",
       "      <td>-0.0055</td>\n",
       "      <td>-0.0052</td>\n",
       "    </tr>\n",
       "    <tr>\n",
       "      <th>1</th>\n",
       "      <td>Barnet</td>\n",
       "      <td>0.0588</td>\n",
       "      <td>-0.0282</td>\n",
       "      <td>-0.0064</td>\n",
       "      <td>-0.0022</td>\n",
       "      <td>-0.0029</td>\n",
       "      <td>-0.0095</td>\n",
       "      <td>-0.0033</td>\n",
       "      <td>-0.0038</td>\n",
       "    </tr>\n",
       "    <tr>\n",
       "      <th>2</th>\n",
       "      <td>Barnsley</td>\n",
       "      <td>0.0456</td>\n",
       "      <td>-0.0852</td>\n",
       "      <td>-0.0218</td>\n",
       "      <td>-0.0240</td>\n",
       "      <td>-0.0027</td>\n",
       "      <td>-0.0138</td>\n",
       "      <td>-0.0075</td>\n",
       "      <td>-0.0154</td>\n",
       "    </tr>\n",
       "    <tr>\n",
       "      <th>3</th>\n",
       "      <td>Bath and North East Somerset</td>\n",
       "      <td>0.0056</td>\n",
       "      <td>-0.0510</td>\n",
       "      <td>-0.0104</td>\n",
       "      <td>-0.0133</td>\n",
       "      <td>-0.0060</td>\n",
       "      <td>-0.0158</td>\n",
       "      <td>-0.0022</td>\n",
       "      <td>-0.0032</td>\n",
       "    </tr>\n",
       "    <tr>\n",
       "      <th>4</th>\n",
       "      <td>Bedford</td>\n",
       "      <td>0.0187</td>\n",
       "      <td>-0.0592</td>\n",
       "      <td>-0.0168</td>\n",
       "      <td>-0.0237</td>\n",
       "      <td>-0.0077</td>\n",
       "      <td>-0.0036</td>\n",
       "      <td>-0.0059</td>\n",
       "      <td>-0.0014</td>\n",
       "    </tr>\n",
       "  </tbody>\n",
       "</table>\n",
       "</div>"
      ],
      "text/plain": [
       "           local_authority_area                                 rate_var  \\\n",
       "0          Barking and Dagenham                                   0.0763   \n",
       "1                        Barnet                                   0.0588   \n",
       "2                      Barnsley                                   0.0456   \n",
       "3  Bath and North East Somerset                                   0.0056   \n",
       "4                       Bedford                                   0.0187   \n",
       "\n",
       "                                  fund_var  \\\n",
       "0                                  -0.0403   \n",
       "1                                  -0.0282   \n",
       "2                                  -0.0852   \n",
       "3                                  -0.0510   \n",
       "4                                  -0.0592   \n",
       "\n",
       "                                 clean_var  \\\n",
       "0                                  -0.0061   \n",
       "1                                  -0.0064   \n",
       "2                                  -0.0218   \n",
       "3                                  -0.0104   \n",
       "4                                  -0.0168   \n",
       "\n",
       "                                   env_var  \\\n",
       "0                                  -0.0064   \n",
       "1                                  -0.0022   \n",
       "2                                  -0.0240   \n",
       "3                                  -0.0133   \n",
       "4                                  -0.0237   \n",
       "\n",
       "                                health_var  \\\n",
       "0                                  -0.0052   \n",
       "1                                  -0.0029   \n",
       "2                                  -0.0027   \n",
       "3                                  -0.0060   \n",
       "4                                  -0.0077   \n",
       "\n",
       "                                school_var  \\\n",
       "0                                  -0.0119   \n",
       "1                                  -0.0095   \n",
       "2                                  -0.0138   \n",
       "3                                  -0.0158   \n",
       "4                                  -0.0036   \n",
       "\n",
       "                                   sub_var  \\\n",
       "0                                  -0.0055   \n",
       "1                                  -0.0033   \n",
       "2                                  -0.0075   \n",
       "3                                  -0.0022   \n",
       "4                                  -0.0059   \n",
       "\n",
       "                                 media_var  \n",
       "0                                  -0.0052  \n",
       "1                                  -0.0038  \n",
       "2                                  -0.0154  \n",
       "3                                  -0.0032  \n",
       "4                                  -0.0014  "
      ]
     },
     "execution_count": 59,
     "metadata": {},
     "output_type": "execute_result"
    }
   ],
   "source": [
    "##Nuevas pautas\n",
    "df_mult.head()"
   ]
  },
  {
   "cell_type": "code",
   "execution_count": 67,
   "metadata": {},
   "outputs": [
    {
     "data": {
      "text/html": [
       "<div>\n",
       "<style scoped>\n",
       "    .dataframe tbody tr th:only-of-type {\n",
       "        vertical-align: middle;\n",
       "    }\n",
       "\n",
       "    .dataframe tbody tr th {\n",
       "        vertical-align: top;\n",
       "    }\n",
       "\n",
       "    .dataframe thead th {\n",
       "        text-align: right;\n",
       "    }\n",
       "</style>\n",
       "<table border=\"1\" class=\"dataframe\">\n",
       "  <thead>\n",
       "    <tr style=\"text-align: right;\">\n",
       "      <th></th>\n",
       "      <th>rate_var</th>\n",
       "      <th>clean_var</th>\n",
       "      <th>env_var</th>\n",
       "      <th>health_var</th>\n",
       "      <th>school_var</th>\n",
       "      <th>sub_var</th>\n",
       "      <th>media_var</th>\n",
       "    </tr>\n",
       "  </thead>\n",
       "  <tbody>\n",
       "    <tr>\n",
       "      <th>0</th>\n",
       "      <td>0.0763</td>\n",
       "      <td>-0.0061</td>\n",
       "      <td>-0.0064</td>\n",
       "      <td>-0.0052</td>\n",
       "      <td>-0.0119</td>\n",
       "      <td>-0.0055</td>\n",
       "      <td>-0.0052</td>\n",
       "    </tr>\n",
       "    <tr>\n",
       "      <th>1</th>\n",
       "      <td>0.0588</td>\n",
       "      <td>-0.0064</td>\n",
       "      <td>-0.0022</td>\n",
       "      <td>-0.0029</td>\n",
       "      <td>-0.0095</td>\n",
       "      <td>-0.0033</td>\n",
       "      <td>-0.0038</td>\n",
       "    </tr>\n",
       "    <tr>\n",
       "      <th>2</th>\n",
       "      <td>0.0456</td>\n",
       "      <td>-0.0218</td>\n",
       "      <td>-0.0240</td>\n",
       "      <td>-0.0027</td>\n",
       "      <td>-0.0138</td>\n",
       "      <td>-0.0075</td>\n",
       "      <td>-0.0154</td>\n",
       "    </tr>\n",
       "    <tr>\n",
       "      <th>3</th>\n",
       "      <td>0.0056</td>\n",
       "      <td>-0.0104</td>\n",
       "      <td>-0.0133</td>\n",
       "      <td>-0.0060</td>\n",
       "      <td>-0.0158</td>\n",
       "      <td>-0.0022</td>\n",
       "      <td>-0.0032</td>\n",
       "    </tr>\n",
       "    <tr>\n",
       "      <th>4</th>\n",
       "      <td>0.0187</td>\n",
       "      <td>-0.0168</td>\n",
       "      <td>-0.0237</td>\n",
       "      <td>-0.0077</td>\n",
       "      <td>-0.0036</td>\n",
       "      <td>-0.0059</td>\n",
       "      <td>-0.0014</td>\n",
       "    </tr>\n",
       "  </tbody>\n",
       "</table>\n",
       "</div>"
      ],
      "text/plain": [
       "                                  rate_var  \\\n",
       "0                                   0.0763   \n",
       "1                                   0.0588   \n",
       "2                                   0.0456   \n",
       "3                                   0.0056   \n",
       "4                                   0.0187   \n",
       "\n",
       "                                 clean_var  \\\n",
       "0                                  -0.0061   \n",
       "1                                  -0.0064   \n",
       "2                                  -0.0218   \n",
       "3                                  -0.0104   \n",
       "4                                  -0.0168   \n",
       "\n",
       "                                   env_var  \\\n",
       "0                                  -0.0064   \n",
       "1                                  -0.0022   \n",
       "2                                  -0.0240   \n",
       "3                                  -0.0133   \n",
       "4                                  -0.0237   \n",
       "\n",
       "                                health_var  \\\n",
       "0                                  -0.0052   \n",
       "1                                  -0.0029   \n",
       "2                                  -0.0027   \n",
       "3                                  -0.0060   \n",
       "4                                  -0.0077   \n",
       "\n",
       "                                school_var  \\\n",
       "0                                  -0.0119   \n",
       "1                                  -0.0095   \n",
       "2                                  -0.0138   \n",
       "3                                  -0.0158   \n",
       "4                                  -0.0036   \n",
       "\n",
       "                                   sub_var  \\\n",
       "0                                  -0.0055   \n",
       "1                                  -0.0033   \n",
       "2                                  -0.0075   \n",
       "3                                  -0.0022   \n",
       "4                                  -0.0059   \n",
       "\n",
       "                                 media_var  \n",
       "0                                  -0.0052  \n",
       "1                                  -0.0038  \n",
       "2                                  -0.0154  \n",
       "3                                  -0.0032  \n",
       "4                                  -0.0014  "
      ]
     },
     "execution_count": 67,
     "metadata": {},
     "output_type": "execute_result"
    }
   ],
   "source": [
    "df_analysis=df_mult.drop(columns=['local_authority_area','fund_var'])\n",
    "df_analysis.head()"
   ]
  },
  {
   "cell_type": "code",
   "execution_count": 68,
   "metadata": {},
   "outputs": [
    {
     "data": {
      "text/html": [
       "<table class=\"simpletable\">\n",
       "<caption>OLS Regression Results</caption>\n",
       "<tr>\n",
       "  <th>Dep. Variable:</th>        <td>rate_var</td>     <th>  R-squared:         </th> <td>   0.081</td>\n",
       "</tr>\n",
       "<tr>\n",
       "  <th>Model:</th>                   <td>OLS</td>       <th>  Adj. R-squared:    </th> <td>   0.043</td>\n",
       "</tr>\n",
       "<tr>\n",
       "  <th>Method:</th>             <td>Least Squares</td>  <th>  F-statistic:       </th> <td>   2.120</td>\n",
       "</tr>\n",
       "<tr>\n",
       "  <th>Date:</th>             <td>Mon, 16 Nov 2020</td> <th>  Prob (F-statistic):</th>  <td>0.0545</td> \n",
       "</tr>\n",
       "<tr>\n",
       "  <th>Time:</th>                 <td>01:12:23</td>     <th>  Log-Likelihood:    </th> <td>  350.73</td>\n",
       "</tr>\n",
       "<tr>\n",
       "  <th>No. Observations:</th>      <td>   152</td>      <th>  AIC:               </th> <td>  -687.5</td>\n",
       "</tr>\n",
       "<tr>\n",
       "  <th>Df Residuals:</th>          <td>   145</td>      <th>  BIC:               </th> <td>  -666.3</td>\n",
       "</tr>\n",
       "<tr>\n",
       "  <th>Df Model:</th>              <td>     6</td>      <th>                     </th>     <td> </td>   \n",
       "</tr>\n",
       "<tr>\n",
       "  <th>Covariance Type:</th>      <td>nonrobust</td>    <th>                     </th>     <td> </td>   \n",
       "</tr>\n",
       "</table>\n",
       "<table class=\"simpletable\">\n",
       "<tr>\n",
       "       <td></td>         <th>coef</th>     <th>std err</th>      <th>t</th>      <th>P>|t|</th>  <th>[0.025</th>    <th>0.975]</th>  \n",
       "</tr>\n",
       "<tr>\n",
       "  <th>Intercept</th>  <td>    0.0390</td> <td>    0.002</td> <td>   15.754</td> <td> 0.000</td> <td>    0.034</td> <td>    0.044</td>\n",
       "</tr>\n",
       "<tr>\n",
       "  <th>clean_var</th>  <td>   -0.2844</td> <td>    0.283</td> <td>   -1.003</td> <td> 0.317</td> <td>   -0.845</td> <td>    0.276</td>\n",
       "</tr>\n",
       "<tr>\n",
       "  <th>env_var</th>    <td>    0.3468</td> <td>    0.220</td> <td>    1.574</td> <td> 0.118</td> <td>   -0.089</td> <td>    0.783</td>\n",
       "</tr>\n",
       "<tr>\n",
       "  <th>health_var</th> <td>   -0.6157</td> <td>    0.608</td> <td>   -1.012</td> <td> 0.313</td> <td>   -1.818</td> <td>    0.587</td>\n",
       "</tr>\n",
       "<tr>\n",
       "  <th>school_var</th> <td>    0.1289</td> <td>    0.164</td> <td>    0.786</td> <td> 0.433</td> <td>   -0.195</td> <td>    0.453</td>\n",
       "</tr>\n",
       "<tr>\n",
       "  <th>sub_var</th>    <td>    1.2940</td> <td>    0.743</td> <td>    1.740</td> <td> 0.084</td> <td>   -0.176</td> <td>    2.763</td>\n",
       "</tr>\n",
       "<tr>\n",
       "  <th>media_var</th>  <td>   -0.0693</td> <td>    0.452</td> <td>   -0.153</td> <td> 0.878</td> <td>   -0.963</td> <td>    0.824</td>\n",
       "</tr>\n",
       "</table>\n",
       "<table class=\"simpletable\">\n",
       "<tr>\n",
       "  <th>Omnibus:</th>       <td> 5.669</td> <th>  Durbin-Watson:     </th> <td>   2.037</td>\n",
       "</tr>\n",
       "<tr>\n",
       "  <th>Prob(Omnibus):</th> <td> 0.059</td> <th>  Jarque-Bera (JB):  </th> <td>   6.358</td>\n",
       "</tr>\n",
       "<tr>\n",
       "  <th>Skew:</th>          <td>-0.267</td> <th>  Prob(JB):          </th> <td>  0.0416</td>\n",
       "</tr>\n",
       "<tr>\n",
       "  <th>Kurtosis:</th>      <td> 3.848</td> <th>  Cond. No.          </th> <td>    403.</td>\n",
       "</tr>\n",
       "</table><br/><br/>Notes:<br/>[1] Standard Errors assume that the covariance matrix of the errors is correctly specified."
      ],
      "text/plain": [
       "<class 'statsmodels.iolib.summary.Summary'>\n",
       "\"\"\"\n",
       "                            OLS Regression Results                            \n",
       "==============================================================================\n",
       "Dep. Variable:               rate_var   R-squared:                       0.081\n",
       "Model:                            OLS   Adj. R-squared:                  0.043\n",
       "Method:                 Least Squares   F-statistic:                     2.120\n",
       "Date:                Mon, 16 Nov 2020   Prob (F-statistic):             0.0545\n",
       "Time:                        01:12:23   Log-Likelihood:                 350.73\n",
       "No. Observations:                 152   AIC:                            -687.5\n",
       "Df Residuals:                     145   BIC:                            -666.3\n",
       "Df Model:                           6                                         \n",
       "Covariance Type:            nonrobust                                         \n",
       "==============================================================================\n",
       "                 coef    std err          t      P>|t|      [0.025      0.975]\n",
       "------------------------------------------------------------------------------\n",
       "Intercept      0.0390      0.002     15.754      0.000       0.034       0.044\n",
       "clean_var     -0.2844      0.283     -1.003      0.317      -0.845       0.276\n",
       "env_var        0.3468      0.220      1.574      0.118      -0.089       0.783\n",
       "health_var    -0.6157      0.608     -1.012      0.313      -1.818       0.587\n",
       "school_var     0.1289      0.164      0.786      0.433      -0.195       0.453\n",
       "sub_var        1.2940      0.743      1.740      0.084      -0.176       2.763\n",
       "media_var     -0.0693      0.452     -0.153      0.878      -0.963       0.824\n",
       "==============================================================================\n",
       "Omnibus:                        5.669   Durbin-Watson:                   2.037\n",
       "Prob(Omnibus):                  0.059   Jarque-Bera (JB):                6.358\n",
       "Skew:                          -0.267   Prob(JB):                       0.0416\n",
       "Kurtosis:                       3.848   Cond. No.                         403.\n",
       "==============================================================================\n",
       "\n",
       "Notes:\n",
       "[1] Standard Errors assume that the covariance matrix of the errors is correctly specified.\n",
       "\"\"\""
      ]
     },
     "execution_count": 68,
     "metadata": {},
     "output_type": "execute_result"
    }
   ],
   "source": [
    "model_var_rate = sm.formula.ols('rate_var~clean_var+env_var+health_var+school_var+sub_var+media_var', df_analysis).fit()\n",
    "model_var_rate.summary()"
   ]
  },
  {
   "cell_type": "code",
   "execution_count": 69,
   "metadata": {},
   "outputs": [
    {
     "data": {
      "text/html": [
       "<div>\n",
       "<style scoped>\n",
       "    .dataframe tbody tr th:only-of-type {\n",
       "        vertical-align: middle;\n",
       "    }\n",
       "\n",
       "    .dataframe tbody tr th {\n",
       "        vertical-align: top;\n",
       "    }\n",
       "\n",
       "    .dataframe thead th {\n",
       "        text-align: right;\n",
       "    }\n",
       "</style>\n",
       "<table border=\"1\" class=\"dataframe\">\n",
       "  <thead>\n",
       "    <tr style=\"text-align: right;\">\n",
       "      <th></th>\n",
       "      <th>rate_var</th>\n",
       "      <th>clean_var</th>\n",
       "      <th>env_var</th>\n",
       "      <th>health_var</th>\n",
       "      <th>school_var</th>\n",
       "      <th>sub_var</th>\n",
       "      <th>media_var</th>\n",
       "    </tr>\n",
       "  </thead>\n",
       "  <tbody>\n",
       "    <tr>\n",
       "      <th>24</th>\n",
       "      <td>0.0564</td>\n",
       "      <td>-0.0221</td>\n",
       "      <td>-0.0043</td>\n",
       "      <td>-0.0050</td>\n",
       "      <td>-0.0169</td>\n",
       "      <td>-0.0027</td>\n",
       "      <td>-0.0124</td>\n",
       "    </tr>\n",
       "    <tr>\n",
       "      <th>26</th>\n",
       "      <td>0.0309</td>\n",
       "      <td>-0.0286</td>\n",
       "      <td>-0.0299</td>\n",
       "      <td>-0.0021</td>\n",
       "      <td>-0.0041</td>\n",
       "      <td>-0.0070</td>\n",
       "      <td>-0.0130</td>\n",
       "    </tr>\n",
       "    <tr>\n",
       "      <th>27</th>\n",
       "      <td>0.0427</td>\n",
       "      <td>-0.0013</td>\n",
       "      <td>-0.0072</td>\n",
       "      <td>-0.0011</td>\n",
       "      <td>-0.0039</td>\n",
       "      <td>-0.0012</td>\n",
       "      <td>-0.0036</td>\n",
       "    </tr>\n",
       "  </tbody>\n",
       "</table>\n",
       "</div>"
      ],
      "text/plain": [
       "                                   rate_var  \\\n",
       "24                                   0.0564   \n",
       "26                                   0.0309   \n",
       "27                                   0.0427   \n",
       "\n",
       "                                  clean_var  \\\n",
       "24                                  -0.0221   \n",
       "26                                  -0.0286   \n",
       "27                                  -0.0013   \n",
       "\n",
       "                                    env_var  \\\n",
       "24                                  -0.0043   \n",
       "26                                  -0.0299   \n",
       "27                                  -0.0072   \n",
       "\n",
       "                                 health_var  \\\n",
       "24                                  -0.0050   \n",
       "26                                  -0.0021   \n",
       "27                                  -0.0011   \n",
       "\n",
       "                                 school_var  \\\n",
       "24                                  -0.0169   \n",
       "26                                  -0.0041   \n",
       "27                                  -0.0039   \n",
       "\n",
       "                                    sub_var  \\\n",
       "24                                  -0.0027   \n",
       "26                                  -0.0070   \n",
       "27                                  -0.0012   \n",
       "\n",
       "                                  media_var  \n",
       "24                                  -0.0124  \n",
       "26                                  -0.0130  \n",
       "27                                  -0.0036  "
      ]
     },
     "execution_count": 69,
     "metadata": {},
     "output_type": "execute_result"
    }
   ],
   "source": [
    "df_analysis=df_analysis.drop(index=25)\n",
    "df_analysis.iloc[24:27,:]"
   ]
  },
  {
   "cell_type": "code",
   "execution_count": 75,
   "metadata": {},
   "outputs": [
    {
     "data": {
      "text/plain": [
       "<AxesSubplot:xlabel='rate_var', ylabel='media_var'>"
      ]
     },
     "execution_count": 75,
     "metadata": {},
     "output_type": "execute_result"
    },
    {
     "data": {
      "image/png": "[encoded data removed]",
      "text/plain": [
       "<Figure size 432x288 with 1 Axes>"
      ]
     },
     "metadata": {
      "needs_background": "light"
     },
     "output_type": "display_data"
    }
   ],
   "source": [
    "df_analysis.plot(x='rate_var',y='media_var',kind='scatter')"
   ]
  },
  {
   "cell_type": "code",
   "execution_count": 95,
   "metadata": {},
   "outputs": [
    {
     "data": {
      "text/html": [
       "<table class=\"simpletable\">\n",
       "<caption>OLS Regression Results</caption>\n",
       "<tr>\n",
       "  <th>Dep. Variable:</th>        <td>rate_var</td>     <th>  R-squared:         </th> <td>   0.254</td>\n",
       "</tr>\n",
       "<tr>\n",
       "  <th>Model:</th>                   <td>OLS</td>       <th>  Adj. R-squared:    </th> <td>   0.223</td>\n",
       "</tr>\n",
       "<tr>\n",
       "  <th>Method:</th>             <td>Least Squares</td>  <th>  F-statistic:       </th> <td>   8.158</td>\n",
       "</tr>\n",
       "<tr>\n",
       "  <th>Date:</th>             <td>Mon, 16 Nov 2020</td> <th>  Prob (F-statistic):</th> <td>1.34e-07</td>\n",
       "</tr>\n",
       "<tr>\n",
       "  <th>Time:</th>                 <td>01:31:09</td>     <th>  Log-Likelihood:    </th> <td>  364.27</td>\n",
       "</tr>\n",
       "<tr>\n",
       "  <th>No. Observations:</th>      <td>   151</td>      <th>  AIC:               </th> <td>  -714.5</td>\n",
       "</tr>\n",
       "<tr>\n",
       "  <th>Df Residuals:</th>          <td>   144</td>      <th>  BIC:               </th> <td>  -693.4</td>\n",
       "</tr>\n",
       "<tr>\n",
       "  <th>Df Model:</th>              <td>     6</td>      <th>                     </th>     <td> </td>   \n",
       "</tr>\n",
       "<tr>\n",
       "  <th>Covariance Type:</th>      <td>nonrobust</td>    <th>                     </th>     <td> </td>   \n",
       "</tr>\n",
       "</table>\n",
       "<table class=\"simpletable\">\n",
       "<tr>\n",
       "       <td></td>         <th>coef</th>     <th>std err</th>      <th>t</th>      <th>P>|t|</th>  <th>[0.025</th>    <th>0.975]</th>  \n",
       "</tr>\n",
       "<tr>\n",
       "  <th>Intercept</th>  <td>    0.0431</td> <td>    0.002</td> <td>   18.457</td> <td> 0.000</td> <td>    0.039</td> <td>    0.048</td>\n",
       "</tr>\n",
       "<tr>\n",
       "  <th>clean_var</th>  <td>    0.0855</td> <td>    0.263</td> <td>    0.325</td> <td> 0.745</td> <td>   -0.434</td> <td>    0.605</td>\n",
       "</tr>\n",
       "<tr>\n",
       "  <th>env_var</th>    <td>    0.3518</td> <td>    0.198</td> <td>    1.773</td> <td> 0.078</td> <td>   -0.041</td> <td>    0.744</td>\n",
       "</tr>\n",
       "<tr>\n",
       "  <th>health_var</th> <td>    0.3767</td> <td>    0.573</td> <td>    0.657</td> <td> 0.512</td> <td>   -0.756</td> <td>    1.509</td>\n",
       "</tr>\n",
       "<tr>\n",
       "  <th>school_var</th> <td>    0.8119</td> <td>    0.188</td> <td>    4.326</td> <td> 0.000</td> <td>    0.441</td> <td>    1.183</td>\n",
       "</tr>\n",
       "<tr>\n",
       "  <th>sub_var</th>    <td>   -0.6544</td> <td>    0.747</td> <td>   -0.877</td> <td> 0.382</td> <td>   -2.130</td> <td>    0.821</td>\n",
       "</tr>\n",
       "<tr>\n",
       "  <th>media_var</th>  <td>   -0.8788</td> <td>    0.430</td> <td>   -2.045</td> <td> 0.043</td> <td>   -1.728</td> <td>   -0.030</td>\n",
       "</tr>\n",
       "</table>\n",
       "<table class=\"simpletable\">\n",
       "<tr>\n",
       "  <th>Omnibus:</th>       <td> 3.793</td> <th>  Durbin-Watson:     </th> <td>   1.967</td>\n",
       "</tr>\n",
       "<tr>\n",
       "  <th>Prob(Omnibus):</th> <td> 0.150</td> <th>  Jarque-Bera (JB):  </th> <td>   2.603</td>\n",
       "</tr>\n",
       "<tr>\n",
       "  <th>Skew:</th>          <td> 0.145</td> <th>  Prob(JB):          </th> <td>   0.272</td>\n",
       "</tr>\n",
       "<tr>\n",
       "  <th>Kurtosis:</th>      <td> 2.426</td> <th>  Cond. No.          </th> <td>    428.</td>\n",
       "</tr>\n",
       "</table><br/><br/>Notes:<br/>[1] Standard Errors assume that the covariance matrix of the errors is correctly specified."
      ],
      "text/plain": [
       "<class 'statsmodels.iolib.summary.Summary'>\n",
       "\"\"\"\n",
       "                            OLS Regression Results                            \n",
       "==============================================================================\n",
       "Dep. Variable:               rate_var   R-squared:                       0.254\n",
       "Model:                            OLS   Adj. R-squared:                  0.223\n",
       "Method:                 Least Squares   F-statistic:                     8.158\n",
       "Date:                Mon, 16 Nov 2020   Prob (F-statistic):           1.34e-07\n",
       "Time:                        01:31:09   Log-Likelihood:                 364.27\n",
       "No. Observations:                 151   AIC:                            -714.5\n",
       "Df Residuals:                     144   BIC:                            -693.4\n",
       "Df Model:                           6                                         \n",
       "Covariance Type:            nonrobust                                         \n",
       "==============================================================================\n",
       "                 coef    std err          t      P>|t|      [0.025      0.975]\n",
       "------------------------------------------------------------------------------\n",
       "Intercept      0.0431      0.002     18.457      0.000       0.039       0.048\n",
       "clean_var      0.0855      0.263      0.325      0.745      -0.434       0.605\n",
       "env_var        0.3518      0.198      1.773      0.078      -0.041       0.744\n",
       "health_var     0.3767      0.573      0.657      0.512      -0.756       1.509\n",
       "school_var     0.8119      0.188      4.326      0.000       0.441       1.183\n",
       "sub_var       -0.6544      0.747     -0.877      0.382      -2.130       0.821\n",
       "media_var     -0.8788      0.430     -2.045      0.043      -1.728      -0.030\n",
       "==============================================================================\n",
       "Omnibus:                        3.793   Durbin-Watson:                   1.967\n",
       "Prob(Omnibus):                  0.150   Jarque-Bera (JB):                2.603\n",
       "Skew:                           0.145   Prob(JB):                        0.272\n",
       "Kurtosis:                       2.426   Cond. No.                         428.\n",
       "==============================================================================\n",
       "\n",
       "Notes:\n",
       "[1] Standard Errors assume that the covariance matrix of the errors is correctly specified.\n",
       "\"\"\""
      ]
     },
     "execution_count": 95,
     "metadata": {},
     "output_type": "execute_result"
    }
   ],
   "source": [
    "model_var_rate = sm.formula.ols('rate_var~clean_var+env_var+health_var+school_var+sub_var+media_var', df_analysis).fit()\n",
    "model_var_rate.summary()"
   ]
  },
  {
   "cell_type": "code",
   "execution_count": 89,
   "metadata": {},
   "outputs": [
    {
     "data": {
      "text/html": [
       "<div>\n",
       "<style scoped>\n",
       "    .dataframe tbody tr th:only-of-type {\n",
       "        vertical-align: middle;\n",
       "    }\n",
       "\n",
       "    .dataframe tbody tr th {\n",
       "        vertical-align: top;\n",
       "    }\n",
       "\n",
       "    .dataframe thead th {\n",
       "        text-align: right;\n",
       "    }\n",
       "</style>\n",
       "<table border=\"1\" class=\"dataframe\">\n",
       "  <thead>\n",
       "    <tr style=\"text-align: right;\">\n",
       "      <th></th>\n",
       "      <th>VIF</th>\n",
       "      <th>variable</th>\n",
       "    </tr>\n",
       "  </thead>\n",
       "  <tbody>\n",
       "    <tr>\n",
       "      <th>0</th>\n",
       "      <td>1.6720</td>\n",
       "      <td>Intercept</td>\n",
       "    </tr>\n",
       "    <tr>\n",
       "      <th>1</th>\n",
       "      <td>3.7123</td>\n",
       "      <td>clean_var</td>\n",
       "    </tr>\n",
       "    <tr>\n",
       "      <th>2</th>\n",
       "      <td>3.2142</td>\n",
       "      <td>env_var</td>\n",
       "    </tr>\n",
       "    <tr>\n",
       "      <th>3</th>\n",
       "      <td>3.6854</td>\n",
       "      <td>health_var</td>\n",
       "    </tr>\n",
       "    <tr>\n",
       "      <th>4</th>\n",
       "      <td>2.5878</td>\n",
       "      <td>school_var</td>\n",
       "    </tr>\n",
       "    <tr>\n",
       "      <th>5</th>\n",
       "      <td>4.0722</td>\n",
       "      <td>sub_var</td>\n",
       "    </tr>\n",
       "    <tr>\n",
       "      <th>6</th>\n",
       "      <td>3.7110</td>\n",
       "      <td>media_var</td>\n",
       "    </tr>\n",
       "  </tbody>\n",
       "</table>\n",
       "</div>"
      ],
      "text/plain": [
       "                                       VIF    variable\n",
       "0                                   1.6720   Intercept\n",
       "1                                   3.7123   clean_var\n",
       "2                                   3.2142     env_var\n",
       "3                                   3.6854  health_var\n",
       "4                                   2.5878  school_var\n",
       "5                                   4.0722     sub_var\n",
       "6                                   3.7110   media_var"
      ]
     },
     "execution_count": 89,
     "metadata": {},
     "output_type": "execute_result"
    }
   ],
   "source": [
    "from patsy import dmatrices\n",
    "from statsmodels.stats.outliers_influence import variance_inflation_factor\n",
    "y, X = dmatrices('rate_var~clean_var+env_var+health_var+school_var+sub_var+media_var', data=df_analysis, return_type='dataframe')\n",
    "vif = pd.DataFrame()\n",
    "vif['VIF'] = [variance_inflation_factor(X.values, i) for i in range(X.shape[1])]\n",
    "vif['variable'] = X.columns\n",
    "vif"
   ]
  },
  {
   "cell_type": "code",
   "execution_count": 78,
   "metadata": {},
   "outputs": [
    {
     "data": {
      "text/html": [
       "<div>\n",
       "<style scoped>\n",
       "    .dataframe tbody tr th:only-of-type {\n",
       "        vertical-align: middle;\n",
       "    }\n",
       "\n",
       "    .dataframe tbody tr th {\n",
       "        vertical-align: top;\n",
       "    }\n",
       "\n",
       "    .dataframe thead th {\n",
       "        text-align: right;\n",
       "    }\n",
       "</style>\n",
       "<table border=\"1\" class=\"dataframe\">\n",
       "  <thead>\n",
       "    <tr style=\"text-align: right;\">\n",
       "      <th></th>\n",
       "      <th>local_authority_area</th>\n",
       "      <th>rate_var</th>\n",
       "      <th>fund_var</th>\n",
       "      <th>clean_var</th>\n",
       "      <th>env_var</th>\n",
       "      <th>health_var</th>\n",
       "      <th>school_var</th>\n",
       "      <th>sub_var</th>\n",
       "      <th>media_var</th>\n",
       "    </tr>\n",
       "  </thead>\n",
       "  <tbody>\n",
       "    <tr>\n",
       "      <th>0</th>\n",
       "      <td>Barking and Dagenham</td>\n",
       "      <td>0.0763</td>\n",
       "      <td>-0.0403</td>\n",
       "      <td>-0.0061</td>\n",
       "      <td>-0.0064</td>\n",
       "      <td>-0.0052</td>\n",
       "      <td>-0.0119</td>\n",
       "      <td>-0.0055</td>\n",
       "      <td>-0.0052</td>\n",
       "    </tr>\n",
       "    <tr>\n",
       "      <th>1</th>\n",
       "      <td>Barnet</td>\n",
       "      <td>0.0588</td>\n",
       "      <td>-0.0282</td>\n",
       "      <td>-0.0064</td>\n",
       "      <td>-0.0022</td>\n",
       "      <td>-0.0029</td>\n",
       "      <td>-0.0095</td>\n",
       "      <td>-0.0033</td>\n",
       "      <td>-0.0038</td>\n",
       "    </tr>\n",
       "    <tr>\n",
       "      <th>2</th>\n",
       "      <td>Barnsley</td>\n",
       "      <td>0.0456</td>\n",
       "      <td>-0.0852</td>\n",
       "      <td>-0.0218</td>\n",
       "      <td>-0.0240</td>\n",
       "      <td>-0.0027</td>\n",
       "      <td>-0.0138</td>\n",
       "      <td>-0.0075</td>\n",
       "      <td>-0.0154</td>\n",
       "    </tr>\n",
       "    <tr>\n",
       "      <th>3</th>\n",
       "      <td>Bath and North East Somerset</td>\n",
       "      <td>0.0056</td>\n",
       "      <td>-0.0510</td>\n",
       "      <td>-0.0104</td>\n",
       "      <td>-0.0133</td>\n",
       "      <td>-0.0060</td>\n",
       "      <td>-0.0158</td>\n",
       "      <td>-0.0022</td>\n",
       "      <td>-0.0032</td>\n",
       "    </tr>\n",
       "    <tr>\n",
       "      <th>4</th>\n",
       "      <td>Bedford</td>\n",
       "      <td>0.0187</td>\n",
       "      <td>-0.0592</td>\n",
       "      <td>-0.0168</td>\n",
       "      <td>-0.0237</td>\n",
       "      <td>-0.0077</td>\n",
       "      <td>-0.0036</td>\n",
       "      <td>-0.0059</td>\n",
       "      <td>-0.0014</td>\n",
       "    </tr>\n",
       "  </tbody>\n",
       "</table>\n",
       "</div>"
      ],
      "text/plain": [
       "           local_authority_area                                 rate_var  \\\n",
       "0          Barking and Dagenham                                   0.0763   \n",
       "1                        Barnet                                   0.0588   \n",
       "2                      Barnsley                                   0.0456   \n",
       "3  Bath and North East Somerset                                   0.0056   \n",
       "4                       Bedford                                   0.0187   \n",
       "\n",
       "                                  fund_var  \\\n",
       "0                                  -0.0403   \n",
       "1                                  -0.0282   \n",
       "2                                  -0.0852   \n",
       "3                                  -0.0510   \n",
       "4                                  -0.0592   \n",
       "\n",
       "                                 clean_var  \\\n",
       "0                                  -0.0061   \n",
       "1                                  -0.0064   \n",
       "2                                  -0.0218   \n",
       "3                                  -0.0104   \n",
       "4                                  -0.0168   \n",
       "\n",
       "                                   env_var  \\\n",
       "0                                  -0.0064   \n",
       "1                                  -0.0022   \n",
       "2                                  -0.0240   \n",
       "3                                  -0.0133   \n",
       "4                                  -0.0237   \n",
       "\n",
       "                                health_var  \\\n",
       "0                                  -0.0052   \n",
       "1                                  -0.0029   \n",
       "2                                  -0.0027   \n",
       "3                                  -0.0060   \n",
       "4                                  -0.0077   \n",
       "\n",
       "                                school_var  \\\n",
       "0                                  -0.0119   \n",
       "1                                  -0.0095   \n",
       "2                                  -0.0138   \n",
       "3                                  -0.0158   \n",
       "4                                  -0.0036   \n",
       "\n",
       "                                   sub_var  \\\n",
       "0                                  -0.0055   \n",
       "1                                  -0.0033   \n",
       "2                                  -0.0075   \n",
       "3                                  -0.0022   \n",
       "4                                  -0.0059   \n",
       "\n",
       "                                 media_var  \n",
       "0                                  -0.0052  \n",
       "1                                  -0.0038  \n",
       "2                                  -0.0154  \n",
       "3                                  -0.0032  \n",
       "4                                  -0.0014  "
      ]
     },
     "execution_count": 78,
     "metadata": {},
     "output_type": "execute_result"
    }
   ],
   "source": [
    "df_mult.head()\n"
   ]
  },
  {
   "cell_type": "code",
   "execution_count": 82,
   "metadata": {},
   "outputs": [
    {
     "data": {
      "text/html": [
       "<div>\n",
       "<style scoped>\n",
       "    .dataframe tbody tr th:only-of-type {\n",
       "        vertical-align: middle;\n",
       "    }\n",
       "\n",
       "    .dataframe tbody tr th {\n",
       "        vertical-align: top;\n",
       "    }\n",
       "\n",
       "    .dataframe thead th {\n",
       "        text-align: right;\n",
       "    }\n",
       "</style>\n",
       "<table border=\"1\" class=\"dataframe\">\n",
       "  <thead>\n",
       "    <tr style=\"text-align: right;\">\n",
       "      <th></th>\n",
       "      <th>rate_var</th>\n",
       "      <th>fund_var</th>\n",
       "    </tr>\n",
       "  </thead>\n",
       "  <tbody>\n",
       "    <tr>\n",
       "      <th>0</th>\n",
       "      <td>0.0763</td>\n",
       "      <td>-0.0403</td>\n",
       "    </tr>\n",
       "    <tr>\n",
       "      <th>1</th>\n",
       "      <td>0.0588</td>\n",
       "      <td>-0.0282</td>\n",
       "    </tr>\n",
       "    <tr>\n",
       "      <th>2</th>\n",
       "      <td>0.0456</td>\n",
       "      <td>-0.0852</td>\n",
       "    </tr>\n",
       "    <tr>\n",
       "      <th>3</th>\n",
       "      <td>0.0056</td>\n",
       "      <td>-0.0510</td>\n",
       "    </tr>\n",
       "    <tr>\n",
       "      <th>4</th>\n",
       "      <td>0.0187</td>\n",
       "      <td>-0.0592</td>\n",
       "    </tr>\n",
       "  </tbody>\n",
       "</table>\n",
       "</div>"
      ],
      "text/plain": [
       "                                  rate_var  \\\n",
       "0                                   0.0763   \n",
       "1                                   0.0588   \n",
       "2                                   0.0456   \n",
       "3                                   0.0056   \n",
       "4                                   0.0187   \n",
       "\n",
       "                                  fund_var  \n",
       "0                                  -0.0403  \n",
       "1                                  -0.0282  \n",
       "2                                  -0.0852  \n",
       "3                                  -0.0510  \n",
       "4                                  -0.0592  "
      ]
     },
     "execution_count": 82,
     "metadata": {},
     "output_type": "execute_result"
    }
   ],
   "source": [
    "df_analysis1=df_mult.iloc[:,1:3].drop(index=25)\n",
    "df_analysis1.head()"
   ]
  },
  {
   "cell_type": "code",
   "execution_count": 85,
   "metadata": {},
   "outputs": [
    {
     "data": {
      "text/html": [
       "<table class=\"simpletable\">\n",
       "<caption>OLS Regression Results</caption>\n",
       "<tr>\n",
       "  <th>Dep. Variable:</th>        <td>rate_var</td>     <th>  R-squared:         </th> <td>   0.160</td>\n",
       "</tr>\n",
       "<tr>\n",
       "  <th>Model:</th>                   <td>OLS</td>       <th>  Adj. R-squared:    </th> <td>   0.154</td>\n",
       "</tr>\n",
       "<tr>\n",
       "  <th>Method:</th>             <td>Least Squares</td>  <th>  F-statistic:       </th> <td>   28.40</td>\n",
       "</tr>\n",
       "<tr>\n",
       "  <th>Date:</th>             <td>Mon, 16 Nov 2020</td> <th>  Prob (F-statistic):</th> <td>3.57e-07</td>\n",
       "</tr>\n",
       "<tr>\n",
       "  <th>Time:</th>                 <td>01:25:44</td>     <th>  Log-Likelihood:    </th> <td>  355.35</td>\n",
       "</tr>\n",
       "<tr>\n",
       "  <th>No. Observations:</th>      <td>   151</td>      <th>  AIC:               </th> <td>  -706.7</td>\n",
       "</tr>\n",
       "<tr>\n",
       "  <th>Df Residuals:</th>          <td>   149</td>      <th>  BIC:               </th> <td>  -700.7</td>\n",
       "</tr>\n",
       "<tr>\n",
       "  <th>Df Model:</th>              <td>     1</td>      <th>                     </th>     <td> </td>   \n",
       "</tr>\n",
       "<tr>\n",
       "  <th>Covariance Type:</th>      <td>nonrobust</td>    <th>                     </th>     <td> </td>   \n",
       "</tr>\n",
       "</table>\n",
       "<table class=\"simpletable\">\n",
       "<tr>\n",
       "      <td></td>         <th>coef</th>     <th>std err</th>      <th>t</th>      <th>P>|t|</th>  <th>[0.025</th>    <th>0.975]</th>  \n",
       "</tr>\n",
       "<tr>\n",
       "  <th>Intercept</th> <td>    0.0432</td> <td>    0.002</td> <td>   17.859</td> <td> 0.000</td> <td>    0.038</td> <td>    0.048</td>\n",
       "</tr>\n",
       "<tr>\n",
       "  <th>fund_var</th>  <td>    0.1769</td> <td>    0.033</td> <td>    5.329</td> <td> 0.000</td> <td>    0.111</td> <td>    0.242</td>\n",
       "</tr>\n",
       "</table>\n",
       "<table class=\"simpletable\">\n",
       "<tr>\n",
       "  <th>Omnibus:</th>       <td> 4.222</td> <th>  Durbin-Watson:     </th> <td>   1.996</td>\n",
       "</tr>\n",
       "<tr>\n",
       "  <th>Prob(Omnibus):</th> <td> 0.121</td> <th>  Jarque-Bera (JB):  </th> <td>   3.902</td>\n",
       "</tr>\n",
       "<tr>\n",
       "  <th>Skew:</th>          <td>-0.280</td> <th>  Prob(JB):          </th> <td>   0.142</td>\n",
       "</tr>\n",
       "<tr>\n",
       "  <th>Kurtosis:</th>      <td> 3.553</td> <th>  Cond. No.          </th> <td>    17.7</td>\n",
       "</tr>\n",
       "</table><br/><br/>Notes:<br/>[1] Standard Errors assume that the covariance matrix of the errors is correctly specified."
      ],
      "text/plain": [
       "<class 'statsmodels.iolib.summary.Summary'>\n",
       "\"\"\"\n",
       "                            OLS Regression Results                            \n",
       "==============================================================================\n",
       "Dep. Variable:               rate_var   R-squared:                       0.160\n",
       "Model:                            OLS   Adj. R-squared:                  0.154\n",
       "Method:                 Least Squares   F-statistic:                     28.40\n",
       "Date:                Mon, 16 Nov 2020   Prob (F-statistic):           3.57e-07\n",
       "Time:                        01:25:44   Log-Likelihood:                 355.35\n",
       "No. Observations:                 151   AIC:                            -706.7\n",
       "Df Residuals:                     149   BIC:                            -700.7\n",
       "Df Model:                           1                                         \n",
       "Covariance Type:            nonrobust                                         \n",
       "==============================================================================\n",
       "                 coef    std err          t      P>|t|      [0.025      0.975]\n",
       "------------------------------------------------------------------------------\n",
       "Intercept      0.0432      0.002     17.859      0.000       0.038       0.048\n",
       "fund_var       0.1769      0.033      5.329      0.000       0.111       0.242\n",
       "==============================================================================\n",
       "Omnibus:                        4.222   Durbin-Watson:                   1.996\n",
       "Prob(Omnibus):                  0.121   Jarque-Bera (JB):                3.902\n",
       "Skew:                          -0.280   Prob(JB):                        0.142\n",
       "Kurtosis:                       3.553   Cond. No.                         17.7\n",
       "==============================================================================\n",
       "\n",
       "Notes:\n",
       "[1] Standard Errors assume that the covariance matrix of the errors is correctly specified.\n",
       "\"\"\""
      ]
     },
     "execution_count": 85,
     "metadata": {},
     "output_type": "execute_result"
    }
   ],
   "source": [
    "model_var_rate1 = sm.formula.ols('rate_var~fund_var', df_analysis1).fit()\n",
    "model_var_rate1.summary()"
   ]
  },
  {
   "cell_type": "code",
   "execution_count": 86,
   "metadata": {},
   "outputs": [
    {
     "data": {
      "text/plain": [
       "<AxesSubplot:xlabel='rate_var', ylabel='fund_var'>"
      ]
     },
     "execution_count": 86,
     "metadata": {},
     "output_type": "execute_result"
    },
    {
     "data": {
      "image/png": "[encoded data removed]",
      "text/plain": [
       "<Figure size 432x288 with 1 Axes>"
      ]
     },
     "metadata": {
      "needs_background": "light"
     },
     "output_type": "display_data"
    }
   ],
   "source": [
    "df_analysis1.plot(x='rate_var',y='fund_var',kind='scatter')"
   ]
  },
  {
   "cell_type": "code",
   "execution_count": 96,
   "metadata": {},
   "outputs": [
    {
     "data": {
      "image/png": "[encoded data removed]",
      "text/plain": [
       "<Figure size 432x288 with 1 Axes>"
      ]
     },
     "metadata": {
      "needs_background": "light"
     },
     "output_type": "display_data"
    }
   ],
   "source": [
    "# plot\n",
    "import matplotlib.pyplot as plt\n",
    "plt.scatter(model_var_rate.fittedvalues, model_var_rate.resid)\n",
    "# adding title and labels\n",
    "plt.xlabel('Fitted rate variation')\n",
    "plt.ylabel('Residual')\n",
    "plt.title('Residual vs. Fitted Plot of rate variation')\n",
    "plt.show()"
   ]
  },
  {
   "cell_type": "code",
   "execution_count": null,
   "metadata": {},
   "outputs": [],
   "source": []
  }
 ],
 "metadata": {
  "kernelspec": {
   "display_name": "Python 3",
   "language": "python",
   "name": "python3"
  },
  "language_info": {
   "codemirror_mode": {
    "name": "ipython",
    "version": 3
   },
   "file_extension": ".py",
   "mimetype": "text/x-python",
   "name": "python",
   "nbconvert_exporter": "python",
   "pygments_lexer": "ipython3",
   "version": "3.7.8"
  }
 },
 "nbformat": 4,
 "nbformat_minor": 4
}
